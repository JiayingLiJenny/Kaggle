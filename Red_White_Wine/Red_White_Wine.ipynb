{
 "cells": [
  {
   "cell_type": "code",
   "execution_count": null,
   "metadata": {
    "collapsed": true
   },
   "outputs": [],
   "source": [
    "一. 数据集合并\n",
    "\n",
    "问题：\n",
    "合并红葡萄酒和白葡萄酒数据集（winequality-red.csv， winequality-white.csv），新增一列表示颜色，用以区分是红还是白葡萄酒\n",
    "思路：\n",
    "分别给红葡萄酒和白葡萄酒数据集新增一列表示颜色，再合并\n",
    "主要使用的方法如下：\n",
    "np.repeat()\n",
    "df.rename(columns=mapping) #mapping = {a:b} \n",
    "df.append(df)"
   ]
  },
  {
   "cell_type": "code",
   "execution_count": null,
   "metadata": {
    "collapsed": true
   },
   "outputs": [],
   "source": [
    "# 评估数据：\n",
    "\n",
    "import pandas as pd\n",
    "import numpy as np\n",
    "pd_red = pd.read_csv('winequality-red.csv', sep=';')\n",
    "pd_white = pd.read_csv('winequality-white.csv', sep=';')\n",
    "\n",
    "pd_red.info()"
   ]
  },
  {
   "cell_type": "markdown",
   "metadata": {},
   "source": [
    "输出：\n",
    "<class 'pandas.core.frame.DataFrame'>\n",
    "RangeIndex: 1599 entries, 0 to 1598\n",
    "Data columns (total 12 columns):\n",
    "fixed_acidity           1599 non-null float64\n",
    "volatile_acidity        1599 non-null float64\n",
    "citric_acid             1599 non-null float64\n",
    "residual_sugar          1599 non-null float64\n",
    "chlorides               1599 non-null float64\n",
    "free_sulfur_dioxide     1599 non-null float64\n",
    "total_sulfur-dioxide    1599 non-null float64\n",
    "density                 1599 non-null float64\n",
    "pH                      1599 non-null float64\n",
    "sulphates               1599 non-null float64\n",
    "alcohol                 1599 non-null float64\n",
    "quality                 1599 non-null int64\n",
    "dtypes: float64(11), int64(1)\n",
    "memory usage: 150.0 KB"
   ]
  },
  {
   "cell_type": "code",
   "execution_count": null,
   "metadata": {
    "collapsed": true
   },
   "outputs": [],
   "source": [
    "pd_white.info()"
   ]
  },
  {
   "cell_type": "markdown",
   "metadata": {},
   "source": [
    "输出：\n",
    "<class 'pandas.core.frame.DataFrame'>\n",
    "RangeIndex: 4898 entries, 0 to 4897\n",
    "Data columns (total 12 columns):\n",
    "fixed_acidity           4898 non-null float64\n",
    "volatile_acidity        4898 non-null float64\n",
    "citric_acid             4898 non-null float64\n",
    "residual_sugar          4898 non-null float64\n",
    "chlorides               4898 non-null float64\n",
    "free_sulfur_dioxide     4898 non-null float64\n",
    "total_sulfur_dioxide    4898 non-null float64\n",
    "density                 4898 non-null float64\n",
    "pH                      4898 non-null float64\n",
    "sulphates               4898 non-null float64\n",
    "alcohol                 4898 non-null float64\n",
    "quality                 4898 non-null int64\n",
    "dtypes: float64(11), int64(1)\n",
    "memory usage: 459.3 KB"
   ]
  },
  {
   "cell_type": "code",
   "execution_count": null,
   "metadata": {
    "collapsed": true
   },
   "outputs": [],
   "source": [
    "# 为红葡萄酒数据框创建颜色数组（其中有1599个样本）\n",
    "color_red = pd.Series(np.repeat('red', 1599)) # np.repeat返回array\n",
    "# 为白葡萄酒数据框创建颜色数组（其中有4898个样本）\n",
    "color_white = pd.Series(np.repeat('white', 4898))\n",
    "\n",
    "pd_red['color'] = color_red\n",
    "pd_white['color'] = color_white\n",
    "\n",
    "#查看数据框，检查是否成功\n",
    "red_df.head()\n",
    "white_df.head()"
   ]
  },
  {
   "cell_type": "code",
   "execution_count": null,
   "metadata": {
    "collapsed": true
   },
   "outputs": [],
   "source": [
    "#为合并成功，需使两个df的列名相同。将red_df中 total_sulfur-dioxide 列标签更改为 total_sulfur_dioxide\n",
    "red_df = red_df.rename(columns={'total_sulfur-dioxide' : 'total_sulfur_dioxide'})"
   ]
  },
  {
   "cell_type": "code",
   "execution_count": null,
   "metadata": {
    "collapsed": true
   },
   "outputs": [],
   "source": [
    "#合并数据\n",
    "wine_df = white_df.append(red_df)\n",
    "\n",
    "# 查看数据框，检查是否成功\n",
    "wine_df.head()\n",
    "wine_df.tail()"
   ]
  },
  {
   "cell_type": "code",
   "execution_count": null,
   "metadata": {
    "collapsed": true
   },
   "outputs": [],
   "source": [
    "二. 数据分组聚合\n",
    "红白葡萄酒问题 ：哪个水平的酸度（pH值）获得的平均评级最高？\n",
    "思路：先用pd.cut() 对酸度进行划分，再用pd.groupby()对划分好的区间进行分组求评分的平均值。"
   ]
  },
  {
   "cell_type": "code",
   "execution_count": null,
   "metadata": {
    "collapsed": true
   },
   "outputs": [],
   "source": [
    "import pandas as pd\n",
    "\n",
    "df = pd.read_csv('winequality_edited.csv')  #'winequality_edited.csv'这是合并后的数据\n",
    "\n",
    "# 用 Pandas 描述功能查看最小、25%、50%、75% 和 最大 pH 值 \n",
    "pd.describe()['pH']"
   ]
  },
  {
   "cell_type": "markdown",
   "metadata": {},
   "source": [
    "输出：\n",
    "\n",
    "count    6497.000000\n",
    "mean        3.218501\n",
    "std         0.160787\n",
    "min         2.720000\n",
    "25%         3.110000\n",
    "50%         3.210000\n",
    "75%         3.320000\n",
    "max         4.010000\n",
    "Name: pH, dtype: float64"
   ]
  },
  {
   "cell_type": "code",
   "execution_count": null,
   "metadata": {
    "collapsed": true
   },
   "outputs": [],
   "source": [
    "# 对用于把数据“分割”成组的边缘进行分组\n",
    "bin_edges = [ 2.72, 3.11, 3.21, 3.32, 4.01]# 用刚才计算的五个值填充\n",
    "\n",
    "'''\n",
    "\n",
    "酸度水平：\n",
    "高: 最低 25% 时的 pH 值\n",
    "中等偏高: 25% - 50% 时的 pH 值\n",
    "中: 50% - 75% 时的 pH 值\n",
    "低: 最高 75% 时的 pH 值\n",
    "'''\n",
    "\n",
    "# 四个酸度水平组的标签\n",
    "bin_names = [ 'high', 'medium_to_high', 'medium', 'low']# 对每个酸度水平类别进行命名"
   ]
  },
  {
   "cell_type": "code",
   "execution_count": null,
   "metadata": {
    "collapsed": true
   },
   "outputs": [],
   "source": [
    "# 创建 acidity_levels 列\n",
    "df['acidity_levels'] = pd.cut(df['pH'], bin_edges, labels=bin_names)\n",
    "\n",
    "# 检查该列是否成功创建\n",
    "df.head()"
   ]
  },
  {
   "cell_type": "code",
   "execution_count": null,
   "metadata": {
    "collapsed": true
   },
   "outputs": [],
   "source": [
    "# 用 groupby 计算每个酸度水平的平均质量\n",
    "df.groupby('acidity_levels')['quality'].mean()"
   ]
  },
  {
   "cell_type": "code",
   "execution_count": null,
   "metadata": {
    "collapsed": true
   },
   "outputs": [],
   "source": [
    "# 保存更改\n",
    "df.to_csv('winequality_edited.csv', index=False)"
   ]
  },
  {
   "cell_type": "code",
   "execution_count": null,
   "metadata": {
    "collapsed": true
   },
   "outputs": [],
   "source": [
    "三. 通过查询进行数据分组\n",
    "\n",
    "问题 ：酒精含量越高的葡萄酒获得的评级更高吗？\n",
    "要回答这个问题，请使用 query 创建两组葡萄酒样本:\n",
    "低酒精（酒精含量低于中值的样本）\n",
    "高酒精（酒精含量高于或等于中值的样本）\n",
    "然后，找到每组的平均质量评级。"
   ]
  },
  {
   "cell_type": "code",
   "execution_count": null,
   "metadata": {
    "collapsed": true
   },
   "outputs": [],
   "source": [
    "# 加载 `winequality_edited.csv`\n",
    "import pandas as pd\n",
    "df = pd.read_csv('winequality_edited.csv')"
   ]
  },
  {
   "cell_type": "code",
   "execution_count": null,
   "metadata": {
    "collapsed": true
   },
   "outputs": [],
   "source": [
    "# 获取酒精含量的中位数\n",
    "med = df['alcohol'].median()\n",
    "\n",
    "# 选择酒精含量小于中位数的样本\n",
    "low_alcohol = df.query('alcohol<@med') # 等于df[df['alcohol']<med]\n",
    "\n",
    "# 选择酒精含量大于等于中位数的样本\n",
    "high_alcohol = df.query('alcohol>=@med')"
   ]
  },
  {
   "cell_type": "code",
   "execution_count": null,
   "metadata": {
    "collapsed": true
   },
   "outputs": [],
   "source": [
    "# 确保这些查询中的每个样本只出现一次\n",
    "num_samples = df.shape[0]\n",
    "\n",
    "num_samples == low_alcohol['quality'].count() + high_alcohol['quality'].count() # 应为真"
   ]
  },
  {
   "cell_type": "code",
   "execution_count": null,
   "metadata": {
    "collapsed": true
   },
   "outputs": [],
   "source": [
    "# 获取低酒精含量组和高酒精含量组的平均质量评分，并进行比较判断\n",
    "low_alcohol['quality'].mean()  <  high_alcohol['quality'].mean()"
   ]
  }
 ],
 "metadata": {
  "kernelspec": {
   "display_name": "Python 3",
   "language": "python",
   "name": "python3"
  },
  "language_info": {
   "codemirror_mode": {
    "name": "ipython",
    "version": 3
   },
   "file_extension": ".py",
   "mimetype": "text/x-python",
   "name": "python",
   "nbconvert_exporter": "python",
   "pygments_lexer": "ipython3",
   "version": "3.6.3"
  }
 },
 "nbformat": 4,
 "nbformat_minor": 2
}
