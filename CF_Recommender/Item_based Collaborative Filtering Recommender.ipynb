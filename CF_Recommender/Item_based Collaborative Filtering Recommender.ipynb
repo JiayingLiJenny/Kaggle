{
 "cells": [
  {
   "cell_type": "markdown",
   "metadata": {
    "collapsed": true
   },
   "source": [
    "# Item_based Collaborative Filtering Recommender\n",
    "## (基于物品的协同过滤推荐系统)\n",
    "#### ----Music Recommender (data from Youtube)"
   ]
  },
  {
   "cell_type": "code",
   "execution_count": 1,
   "metadata": {
    "collapsed": true
   },
   "outputs": [],
   "source": [
    "import pandas as pd\n",
    "import numpy as np\n",
    "import time\n",
    "import sqlite3"
   ]
  },
  {
   "cell_type": "code",
   "execution_count": 2,
   "metadata": {
    "collapsed": true
   },
   "outputs": [],
   "source": [
    "data_home = './'"
   ]
  },
  {
   "cell_type": "markdown",
   "metadata": {
    "collapsed": true
   },
   "source": [
    "## 一 数据的加载及筛选\n",
    "reading user, song, play_count data"
   ]
  },
  {
   "cell_type": "code",
   "execution_count": 7,
   "metadata": {
    "collapsed": true
   },
   "outputs": [],
   "source": [
    "triplet_dataset = pd.read_csv(filepath_or_buffer=data_home+'train_triplets.txt', \n",
    "                              sep='\\t', header=None, \n",
    "                              names=['user','song','play_count'])"
   ]
  },
  {
   "cell_type": "code",
   "execution_count": 5,
   "metadata": {},
   "outputs": [
    {
     "data": {
      "text/plain": [
       "(48373586, 3)"
      ]
     },
     "execution_count": 5,
     "metadata": {},
     "output_type": "execute_result"
    }
   ],
   "source": [
    "triplet_dataset.shape"
   ]
  },
  {
   "cell_type": "code",
   "execution_count": 6,
   "metadata": {},
   "outputs": [
    {
     "data": {
      "text/html": [
       "<div>\n",
       "<style>\n",
       "    .dataframe thead tr:only-child th {\n",
       "        text-align: right;\n",
       "    }\n",
       "\n",
       "    .dataframe thead th {\n",
       "        text-align: left;\n",
       "    }\n",
       "\n",
       "    .dataframe tbody tr th {\n",
       "        vertical-align: top;\n",
       "    }\n",
       "</style>\n",
       "<table border=\"1\" class=\"dataframe\">\n",
       "  <thead>\n",
       "    <tr style=\"text-align: right;\">\n",
       "      <th></th>\n",
       "      <th>user</th>\n",
       "      <th>song</th>\n",
       "      <th>play_count</th>\n",
       "    </tr>\n",
       "  </thead>\n",
       "  <tbody>\n",
       "    <tr>\n",
       "      <th>0</th>\n",
       "      <td>b80344d063b5ccb3212f76538f3d9e43d87dca9e</td>\n",
       "      <td>SOAKIMP12A8C130995</td>\n",
       "      <td>1</td>\n",
       "    </tr>\n",
       "    <tr>\n",
       "      <th>1</th>\n",
       "      <td>b80344d063b5ccb3212f76538f3d9e43d87dca9e</td>\n",
       "      <td>SOAPDEY12A81C210A9</td>\n",
       "      <td>1</td>\n",
       "    </tr>\n",
       "    <tr>\n",
       "      <th>2</th>\n",
       "      <td>b80344d063b5ccb3212f76538f3d9e43d87dca9e</td>\n",
       "      <td>SOBBMDR12A8C13253B</td>\n",
       "      <td>2</td>\n",
       "    </tr>\n",
       "    <tr>\n",
       "      <th>3</th>\n",
       "      <td>b80344d063b5ccb3212f76538f3d9e43d87dca9e</td>\n",
       "      <td>SOBFNSP12AF72A0E22</td>\n",
       "      <td>1</td>\n",
       "    </tr>\n",
       "    <tr>\n",
       "      <th>4</th>\n",
       "      <td>b80344d063b5ccb3212f76538f3d9e43d87dca9e</td>\n",
       "      <td>SOBFOVM12A58A7D494</td>\n",
       "      <td>1</td>\n",
       "    </tr>\n",
       "    <tr>\n",
       "      <th>5</th>\n",
       "      <td>b80344d063b5ccb3212f76538f3d9e43d87dca9e</td>\n",
       "      <td>SOBNZDC12A6D4FC103</td>\n",
       "      <td>1</td>\n",
       "    </tr>\n",
       "    <tr>\n",
       "      <th>6</th>\n",
       "      <td>b80344d063b5ccb3212f76538f3d9e43d87dca9e</td>\n",
       "      <td>SOBSUJE12A6D4F8CF5</td>\n",
       "      <td>2</td>\n",
       "    </tr>\n",
       "    <tr>\n",
       "      <th>7</th>\n",
       "      <td>b80344d063b5ccb3212f76538f3d9e43d87dca9e</td>\n",
       "      <td>SOBVFZR12A6D4F8AE3</td>\n",
       "      <td>1</td>\n",
       "    </tr>\n",
       "    <tr>\n",
       "      <th>8</th>\n",
       "      <td>b80344d063b5ccb3212f76538f3d9e43d87dca9e</td>\n",
       "      <td>SOBXALG12A8C13C108</td>\n",
       "      <td>1</td>\n",
       "    </tr>\n",
       "    <tr>\n",
       "      <th>9</th>\n",
       "      <td>b80344d063b5ccb3212f76538f3d9e43d87dca9e</td>\n",
       "      <td>SOBXHDL12A81C204C0</td>\n",
       "      <td>1</td>\n",
       "    </tr>\n",
       "  </tbody>\n",
       "</table>\n",
       "</div>"
      ],
      "text/plain": [
       "                                       user                song  play_count\n",
       "0  b80344d063b5ccb3212f76538f3d9e43d87dca9e  SOAKIMP12A8C130995           1\n",
       "1  b80344d063b5ccb3212f76538f3d9e43d87dca9e  SOAPDEY12A81C210A9           1\n",
       "2  b80344d063b5ccb3212f76538f3d9e43d87dca9e  SOBBMDR12A8C13253B           2\n",
       "3  b80344d063b5ccb3212f76538f3d9e43d87dca9e  SOBFNSP12AF72A0E22           1\n",
       "4  b80344d063b5ccb3212f76538f3d9e43d87dca9e  SOBFOVM12A58A7D494           1\n",
       "5  b80344d063b5ccb3212f76538f3d9e43d87dca9e  SOBNZDC12A6D4FC103           1\n",
       "6  b80344d063b5ccb3212f76538f3d9e43d87dca9e  SOBSUJE12A6D4F8CF5           2\n",
       "7  b80344d063b5ccb3212f76538f3d9e43d87dca9e  SOBVFZR12A6D4F8AE3           1\n",
       "8  b80344d063b5ccb3212f76538f3d9e43d87dca9e  SOBXALG12A8C13C108           1\n",
       "9  b80344d063b5ccb3212f76538f3d9e43d87dca9e  SOBXHDL12A81C204C0           1"
      ]
     },
     "execution_count": 6,
     "metadata": {},
     "output_type": "execute_result"
    }
   ],
   "source": [
    "triplet_dataset.head(n=10)"
   ]
  },
  {
   "cell_type": "markdown",
   "metadata": {
    "collapsed": true
   },
   "source": [
    "### 1 Play count for each user (每个用户的播放总数)"
   ]
  },
  {
   "cell_type": "code",
   "execution_count": 54,
   "metadata": {
    "collapsed": true
   },
   "outputs": [],
   "source": [
    "output_dict = {}\n",
    "with open(data_home+'train_triplets.txt') as f:\n",
    "    for line_number, line in enumerate(f):\n",
    "        user = line.split('\\t')[0]\n",
    "        play_count = int(line.split('\\t')[2])\n",
    "        # user in dict\n",
    "        if user in output_dict:\n",
    "            play_count +=output_dict[user]\n",
    "            output_dict.update({user:play_count}) \n",
    "        # user not in dict\n",
    "        output_dict.update({user:play_count})\n",
    "output_list = [{'user':k,'play_count':v} for k,v in output_dict.items()]\n",
    "# list to df\n",
    "play_count_df = pd.DataFrame(output_list)\n",
    "# ASC sort by play_count\n",
    "play_count_df = play_count_df.sort_values(by = 'play_count', ascending = False)"
   ]
  },
  {
   "cell_type": "code",
   "execution_count": null,
   "metadata": {
    "collapsed": true
   },
   "outputs": [],
   "source": [
    "# save as csv, for later use\n",
    "play_count_df.to_csv(path_or_buf='user_playcount_df.csv', index = False)"
   ]
  },
  {
   "cell_type": "markdown",
   "metadata": {
    "collapsed": true
   },
   "source": [
    "### 2 Play count for each song (每首歌的播放总数)"
   ]
  },
  {
   "cell_type": "code",
   "execution_count": 10,
   "metadata": {
    "collapsed": true
   },
   "outputs": [],
   "source": [
    "output_dict = {}\n",
    "with open(data_home+'train_triplets.txt') as f:\n",
    "    for line_number, line in enumerate(f):\n",
    "        song = line.split('\\t')[1]\n",
    "        play_count = int(line.split('\\t')[2])\n",
    "        if song in output_dict:\n",
    "            play_count +=output_dict[song]\n",
    "            output_dict.update({song:play_count})\n",
    "        output_dict.update({song:play_count})\n",
    "output_list = [{'song':k,'play_count':v} for k,v in output_dict.items()]\n",
    "song_count_df = pd.DataFrame(output_list)\n",
    "song_count_df = song_count_df.sort_values(by = 'play_count', ascending = False)"
   ]
  },
  {
   "cell_type": "code",
   "execution_count": null,
   "metadata": {
    "collapsed": true
   },
   "outputs": [],
   "source": [
    "song_count_df.to_csv(path_or_buf='song_playcount_df.csv', index = False)"
   ]
  },
  {
   "cell_type": "markdown",
   "metadata": {},
   "source": [
    "### 3 reading user_playcount_df, song_count_df （读取排序好的数据）\n"
   ]
  },
  {
   "cell_type": "code",
   "execution_count": 3,
   "metadata": {},
   "outputs": [
    {
     "data": {
      "text/html": [
       "<div>\n",
       "<style>\n",
       "    .dataframe thead tr:only-child th {\n",
       "        text-align: right;\n",
       "    }\n",
       "\n",
       "    .dataframe thead th {\n",
       "        text-align: left;\n",
       "    }\n",
       "\n",
       "    .dataframe tbody tr th {\n",
       "        vertical-align: top;\n",
       "    }\n",
       "</style>\n",
       "<table border=\"1\" class=\"dataframe\">\n",
       "  <thead>\n",
       "    <tr style=\"text-align: right;\">\n",
       "      <th></th>\n",
       "      <th>play_count</th>\n",
       "      <th>user</th>\n",
       "    </tr>\n",
       "  </thead>\n",
       "  <tbody>\n",
       "    <tr>\n",
       "      <th>0</th>\n",
       "      <td>13132</td>\n",
       "      <td>093cb74eb3c517c5179ae24caf0ebec51b24d2a2</td>\n",
       "    </tr>\n",
       "    <tr>\n",
       "      <th>1</th>\n",
       "      <td>9884</td>\n",
       "      <td>119b7c88d58d0c6eb051365c103da5caf817bea6</td>\n",
       "    </tr>\n",
       "    <tr>\n",
       "      <th>2</th>\n",
       "      <td>8210</td>\n",
       "      <td>3fa44653315697f42410a30cb766a4eb102080bb</td>\n",
       "    </tr>\n",
       "    <tr>\n",
       "      <th>3</th>\n",
       "      <td>7015</td>\n",
       "      <td>a2679496cd0af9779a92a13ff7c6af5c81ea8c7b</td>\n",
       "    </tr>\n",
       "    <tr>\n",
       "      <th>4</th>\n",
       "      <td>6494</td>\n",
       "      <td>d7d2d888ae04d16e994d6964214a1de81392ee04</td>\n",
       "    </tr>\n",
       "    <tr>\n",
       "      <th>5</th>\n",
       "      <td>6472</td>\n",
       "      <td>4ae01afa8f2430ea0704d502bc7b57fb52164882</td>\n",
       "    </tr>\n",
       "    <tr>\n",
       "      <th>6</th>\n",
       "      <td>6150</td>\n",
       "      <td>b7c24f770be6b802805ac0e2106624a517643c17</td>\n",
       "    </tr>\n",
       "    <tr>\n",
       "      <th>7</th>\n",
       "      <td>5656</td>\n",
       "      <td>113255a012b2affeab62607563d03fbdf31b08e7</td>\n",
       "    </tr>\n",
       "    <tr>\n",
       "      <th>8</th>\n",
       "      <td>5620</td>\n",
       "      <td>6d625c6557df84b60d90426c0116138b617b9449</td>\n",
       "    </tr>\n",
       "    <tr>\n",
       "      <th>9</th>\n",
       "      <td>5602</td>\n",
       "      <td>99ac3d883681e21ea68071019dba828ce76fe94d</td>\n",
       "    </tr>\n",
       "  </tbody>\n",
       "</table>\n",
       "</div>"
      ],
      "text/plain": [
       "   play_count                                      user\n",
       "0       13132  093cb74eb3c517c5179ae24caf0ebec51b24d2a2\n",
       "1        9884  119b7c88d58d0c6eb051365c103da5caf817bea6\n",
       "2        8210  3fa44653315697f42410a30cb766a4eb102080bb\n",
       "3        7015  a2679496cd0af9779a92a13ff7c6af5c81ea8c7b\n",
       "4        6494  d7d2d888ae04d16e994d6964214a1de81392ee04\n",
       "5        6472  4ae01afa8f2430ea0704d502bc7b57fb52164882\n",
       "6        6150  b7c24f770be6b802805ac0e2106624a517643c17\n",
       "7        5656  113255a012b2affeab62607563d03fbdf31b08e7\n",
       "8        5620  6d625c6557df84b60d90426c0116138b617b9449\n",
       "9        5602  99ac3d883681e21ea68071019dba828ce76fe94d"
      ]
     },
     "execution_count": 3,
     "metadata": {},
     "output_type": "execute_result"
    }
   ],
   "source": [
    "play_count_df = pd.read_csv(filepath_or_buffer='user_playcount_df.csv')\n",
    "play_count_df.head(n =10)"
   ]
  },
  {
   "cell_type": "code",
   "execution_count": 4,
   "metadata": {},
   "outputs": [
    {
     "data": {
      "text/html": [
       "<div>\n",
       "<style>\n",
       "    .dataframe thead tr:only-child th {\n",
       "        text-align: right;\n",
       "    }\n",
       "\n",
       "    .dataframe thead th {\n",
       "        text-align: left;\n",
       "    }\n",
       "\n",
       "    .dataframe tbody tr th {\n",
       "        vertical-align: top;\n",
       "    }\n",
       "</style>\n",
       "<table border=\"1\" class=\"dataframe\">\n",
       "  <thead>\n",
       "    <tr style=\"text-align: right;\">\n",
       "      <th></th>\n",
       "      <th>play_count</th>\n",
       "      <th>song</th>\n",
       "    </tr>\n",
       "  </thead>\n",
       "  <tbody>\n",
       "    <tr>\n",
       "      <th>0</th>\n",
       "      <td>726885</td>\n",
       "      <td>SOBONKR12A58A7A7E0</td>\n",
       "    </tr>\n",
       "    <tr>\n",
       "      <th>1</th>\n",
       "      <td>648239</td>\n",
       "      <td>SOAUWYT12A81C206F1</td>\n",
       "    </tr>\n",
       "    <tr>\n",
       "      <th>2</th>\n",
       "      <td>527893</td>\n",
       "      <td>SOSXLTC12AF72A7F54</td>\n",
       "    </tr>\n",
       "    <tr>\n",
       "      <th>3</th>\n",
       "      <td>425463</td>\n",
       "      <td>SOFRQTD12A81C233C0</td>\n",
       "    </tr>\n",
       "    <tr>\n",
       "      <th>4</th>\n",
       "      <td>389880</td>\n",
       "      <td>SOEGIYH12A6D4FC0E3</td>\n",
       "    </tr>\n",
       "    <tr>\n",
       "      <th>5</th>\n",
       "      <td>356533</td>\n",
       "      <td>SOAXGDH12A8C13F8A1</td>\n",
       "    </tr>\n",
       "    <tr>\n",
       "      <th>6</th>\n",
       "      <td>292642</td>\n",
       "      <td>SONYKOW12AB01849C9</td>\n",
       "    </tr>\n",
       "    <tr>\n",
       "      <th>7</th>\n",
       "      <td>274627</td>\n",
       "      <td>SOPUCYA12A8C13A694</td>\n",
       "    </tr>\n",
       "    <tr>\n",
       "      <th>8</th>\n",
       "      <td>268353</td>\n",
       "      <td>SOUFTBI12AB0183F65</td>\n",
       "    </tr>\n",
       "    <tr>\n",
       "      <th>9</th>\n",
       "      <td>244730</td>\n",
       "      <td>SOVDSJC12A58A7A271</td>\n",
       "    </tr>\n",
       "  </tbody>\n",
       "</table>\n",
       "</div>"
      ],
      "text/plain": [
       "   play_count                song\n",
       "0      726885  SOBONKR12A58A7A7E0\n",
       "1      648239  SOAUWYT12A81C206F1\n",
       "2      527893  SOSXLTC12AF72A7F54\n",
       "3      425463  SOFRQTD12A81C233C0\n",
       "4      389880  SOEGIYH12A6D4FC0E3\n",
       "5      356533  SOAXGDH12A8C13F8A1\n",
       "6      292642  SONYKOW12AB01849C9\n",
       "7      274627  SOPUCYA12A8C13A694\n",
       "8      268353  SOUFTBI12AB0183F65\n",
       "9      244730  SOVDSJC12A58A7A271"
      ]
     },
     "execution_count": 4,
     "metadata": {},
     "output_type": "execute_result"
    }
   ],
   "source": [
    "song_count_df = pd.read_csv(filepath_or_buffer='song_playcount_df.csv')\n",
    "song_count_df.head(10)"
   ]
  },
  {
   "cell_type": "code",
   "execution_count": 7,
   "metadata": {},
   "outputs": [
    {
     "data": {
      "text/html": [
       "<div>\n",
       "<style>\n",
       "    .dataframe thead tr:only-child th {\n",
       "        text-align: right;\n",
       "    }\n",
       "\n",
       "    .dataframe thead th {\n",
       "        text-align: left;\n",
       "    }\n",
       "\n",
       "    .dataframe tbody tr th {\n",
       "        vertical-align: top;\n",
       "    }\n",
       "</style>\n",
       "<table border=\"1\" class=\"dataframe\">\n",
       "  <thead>\n",
       "    <tr style=\"text-align: right;\">\n",
       "      <th></th>\n",
       "      <th>play_count</th>\n",
       "      <th>song</th>\n",
       "    </tr>\n",
       "  </thead>\n",
       "  <tbody>\n",
       "    <tr>\n",
       "      <th>384446</th>\n",
       "      <td>1</td>\n",
       "      <td>SOLISVT12AB018A3DA</td>\n",
       "    </tr>\n",
       "    <tr>\n",
       "      <th>384447</th>\n",
       "      <td>1</td>\n",
       "      <td>SOGUIBA12A81C22838</td>\n",
       "    </tr>\n",
       "    <tr>\n",
       "      <th>384448</th>\n",
       "      <td>1</td>\n",
       "      <td>SOUXWZU12A6D4F5C1A</td>\n",
       "    </tr>\n",
       "    <tr>\n",
       "      <th>384449</th>\n",
       "      <td>1</td>\n",
       "      <td>SODYGBQ12A6D4F5C17</td>\n",
       "    </tr>\n",
       "    <tr>\n",
       "      <th>384450</th>\n",
       "      <td>1</td>\n",
       "      <td>SOEFSRN12A6D4F7B08</td>\n",
       "    </tr>\n",
       "    <tr>\n",
       "      <th>384451</th>\n",
       "      <td>1</td>\n",
       "      <td>SOEHFVN12AB017F8A3</td>\n",
       "    </tr>\n",
       "    <tr>\n",
       "      <th>384452</th>\n",
       "      <td>1</td>\n",
       "      <td>SOBGACN12A8C13E14D</td>\n",
       "    </tr>\n",
       "    <tr>\n",
       "      <th>384453</th>\n",
       "      <td>1</td>\n",
       "      <td>SOGQOPP12AB0182202</td>\n",
       "    </tr>\n",
       "    <tr>\n",
       "      <th>384454</th>\n",
       "      <td>1</td>\n",
       "      <td>SOBVKJJ12A6D4F8C85</td>\n",
       "    </tr>\n",
       "    <tr>\n",
       "      <th>384455</th>\n",
       "      <td>1</td>\n",
       "      <td>SOKDDNH12AB017EEA9</td>\n",
       "    </tr>\n",
       "    <tr>\n",
       "      <th>384456</th>\n",
       "      <td>1</td>\n",
       "      <td>SOLDOJV12A8151E099</td>\n",
       "    </tr>\n",
       "    <tr>\n",
       "      <th>384457</th>\n",
       "      <td>1</td>\n",
       "      <td>SOTRRPI12AAF3B4FF7</td>\n",
       "    </tr>\n",
       "    <tr>\n",
       "      <th>384458</th>\n",
       "      <td>1</td>\n",
       "      <td>SOYVPQT12A58A796ED</td>\n",
       "    </tr>\n",
       "    <tr>\n",
       "      <th>384459</th>\n",
       "      <td>1</td>\n",
       "      <td>SOOUIUV12A6D4F9E8E</td>\n",
       "    </tr>\n",
       "    <tr>\n",
       "      <th>384460</th>\n",
       "      <td>1</td>\n",
       "      <td>SOKRQIB12A6D4F9E8F</td>\n",
       "    </tr>\n",
       "    <tr>\n",
       "      <th>384461</th>\n",
       "      <td>1</td>\n",
       "      <td>SOGWBER12A8C13ECFB</td>\n",
       "    </tr>\n",
       "    <tr>\n",
       "      <th>384462</th>\n",
       "      <td>1</td>\n",
       "      <td>SOEEZDN12A6D4F9E8D</td>\n",
       "    </tr>\n",
       "    <tr>\n",
       "      <th>384463</th>\n",
       "      <td>1</td>\n",
       "      <td>SOMUFQI12AB0187429</td>\n",
       "    </tr>\n",
       "    <tr>\n",
       "      <th>384464</th>\n",
       "      <td>1</td>\n",
       "      <td>SODTXMH12A8C135607</td>\n",
       "    </tr>\n",
       "    <tr>\n",
       "      <th>384465</th>\n",
       "      <td>1</td>\n",
       "      <td>SOAQIRD12A6D4F8346</td>\n",
       "    </tr>\n",
       "    <tr>\n",
       "      <th>384466</th>\n",
       "      <td>1</td>\n",
       "      <td>SOGSMDR12AB018BE42</td>\n",
       "    </tr>\n",
       "    <tr>\n",
       "      <th>384467</th>\n",
       "      <td>1</td>\n",
       "      <td>SOHBIOW12AB018A4AA</td>\n",
       "    </tr>\n",
       "    <tr>\n",
       "      <th>384468</th>\n",
       "      <td>1</td>\n",
       "      <td>SOLMMXJ12AB0182891</td>\n",
       "    </tr>\n",
       "    <tr>\n",
       "      <th>384469</th>\n",
       "      <td>1</td>\n",
       "      <td>SORTFNJ12A8C141773</td>\n",
       "    </tr>\n",
       "    <tr>\n",
       "      <th>384470</th>\n",
       "      <td>1</td>\n",
       "      <td>SOLDEVA12A8C133E43</td>\n",
       "    </tr>\n",
       "    <tr>\n",
       "      <th>384471</th>\n",
       "      <td>1</td>\n",
       "      <td>SOGNGGQ12A8C134689</td>\n",
       "    </tr>\n",
       "    <tr>\n",
       "      <th>384472</th>\n",
       "      <td>1</td>\n",
       "      <td>SOWLZPN12A58A7CB0D</td>\n",
       "    </tr>\n",
       "    <tr>\n",
       "      <th>384473</th>\n",
       "      <td>1</td>\n",
       "      <td>SOKXODU12A6701FF9E</td>\n",
       "    </tr>\n",
       "    <tr>\n",
       "      <th>384474</th>\n",
       "      <td>1</td>\n",
       "      <td>SOTMIZV12A58A7D3AA</td>\n",
       "    </tr>\n",
       "    <tr>\n",
       "      <th>384475</th>\n",
       "      <td>1</td>\n",
       "      <td>SOJOUSN12AF72AD03C</td>\n",
       "    </tr>\n",
       "    <tr>\n",
       "      <th>...</th>\n",
       "      <td>...</td>\n",
       "      <td>...</td>\n",
       "    </tr>\n",
       "    <tr>\n",
       "      <th>384516</th>\n",
       "      <td>1</td>\n",
       "      <td>SOABGTM12AC4688122</td>\n",
       "    </tr>\n",
       "    <tr>\n",
       "      <th>384517</th>\n",
       "      <td>1</td>\n",
       "      <td>SOABYGG12AB018BD60</td>\n",
       "    </tr>\n",
       "    <tr>\n",
       "      <th>384518</th>\n",
       "      <td>1</td>\n",
       "      <td>SORQYLV12A8C13BD92</td>\n",
       "    </tr>\n",
       "    <tr>\n",
       "      <th>384519</th>\n",
       "      <td>1</td>\n",
       "      <td>SOHLAXW12AB01813FC</td>\n",
       "    </tr>\n",
       "    <tr>\n",
       "      <th>384520</th>\n",
       "      <td>1</td>\n",
       "      <td>SOGIRUJ12AB018AD79</td>\n",
       "    </tr>\n",
       "    <tr>\n",
       "      <th>384521</th>\n",
       "      <td>1</td>\n",
       "      <td>SOAOAOQ12A8C13FAAD</td>\n",
       "    </tr>\n",
       "    <tr>\n",
       "      <th>384522</th>\n",
       "      <td>1</td>\n",
       "      <td>SOIYBRH12A8C140CCF</td>\n",
       "    </tr>\n",
       "    <tr>\n",
       "      <th>384523</th>\n",
       "      <td>1</td>\n",
       "      <td>SOAKAFJ12A8C13967F</td>\n",
       "    </tr>\n",
       "    <tr>\n",
       "      <th>384524</th>\n",
       "      <td>1</td>\n",
       "      <td>SOULSPL12A6D4FBD72</td>\n",
       "    </tr>\n",
       "    <tr>\n",
       "      <th>384525</th>\n",
       "      <td>1</td>\n",
       "      <td>SOWOARW12A6D4FBD6F</td>\n",
       "    </tr>\n",
       "    <tr>\n",
       "      <th>384526</th>\n",
       "      <td>1</td>\n",
       "      <td>SOZWRLL12A6D4FBD70</td>\n",
       "    </tr>\n",
       "    <tr>\n",
       "      <th>384527</th>\n",
       "      <td>1</td>\n",
       "      <td>SOFFZUS12AB018865D</td>\n",
       "    </tr>\n",
       "    <tr>\n",
       "      <th>384528</th>\n",
       "      <td>1</td>\n",
       "      <td>SODYLBR12AB017F4F4</td>\n",
       "    </tr>\n",
       "    <tr>\n",
       "      <th>384529</th>\n",
       "      <td>1</td>\n",
       "      <td>SONFDYZ12A6D4FE56A</td>\n",
       "    </tr>\n",
       "    <tr>\n",
       "      <th>384530</th>\n",
       "      <td>1</td>\n",
       "      <td>SODHIXU12A58A79BAC</td>\n",
       "    </tr>\n",
       "    <tr>\n",
       "      <th>384531</th>\n",
       "      <td>1</td>\n",
       "      <td>SORPUMV12A8C140BB5</td>\n",
       "    </tr>\n",
       "    <tr>\n",
       "      <th>384532</th>\n",
       "      <td>1</td>\n",
       "      <td>SOEUUBA12A8C138705</td>\n",
       "    </tr>\n",
       "    <tr>\n",
       "      <th>384533</th>\n",
       "      <td>1</td>\n",
       "      <td>SOBLWJV12AB01874A7</td>\n",
       "    </tr>\n",
       "    <tr>\n",
       "      <th>384534</th>\n",
       "      <td>1</td>\n",
       "      <td>SOJNESC12A58A7E2AE</td>\n",
       "    </tr>\n",
       "    <tr>\n",
       "      <th>384535</th>\n",
       "      <td>1</td>\n",
       "      <td>SOJHNNB12AB01870DC</td>\n",
       "    </tr>\n",
       "    <tr>\n",
       "      <th>384536</th>\n",
       "      <td>1</td>\n",
       "      <td>SOIWHVN12AB0185FA1</td>\n",
       "    </tr>\n",
       "    <tr>\n",
       "      <th>384537</th>\n",
       "      <td>1</td>\n",
       "      <td>SOIWHYP12AB01851EC</td>\n",
       "    </tr>\n",
       "    <tr>\n",
       "      <th>384538</th>\n",
       "      <td>1</td>\n",
       "      <td>SOPCYBK12A8C13AAEC</td>\n",
       "    </tr>\n",
       "    <tr>\n",
       "      <th>384539</th>\n",
       "      <td>1</td>\n",
       "      <td>SOXABZJ12A6D4F99AB</td>\n",
       "    </tr>\n",
       "    <tr>\n",
       "      <th>384540</th>\n",
       "      <td>1</td>\n",
       "      <td>SORVPSU12AB0185FA6</td>\n",
       "    </tr>\n",
       "    <tr>\n",
       "      <th>384541</th>\n",
       "      <td>1</td>\n",
       "      <td>SOXZARS12AB01851EE</td>\n",
       "    </tr>\n",
       "    <tr>\n",
       "      <th>384542</th>\n",
       "      <td>1</td>\n",
       "      <td>SOCCQEA12AB017E7CF</td>\n",
       "    </tr>\n",
       "    <tr>\n",
       "      <th>384543</th>\n",
       "      <td>1</td>\n",
       "      <td>SOGNHOL12A8C13C379</td>\n",
       "    </tr>\n",
       "    <tr>\n",
       "      <th>384544</th>\n",
       "      <td>1</td>\n",
       "      <td>SOPXELI12A8C13FAB0</td>\n",
       "    </tr>\n",
       "    <tr>\n",
       "      <th>384545</th>\n",
       "      <td>1</td>\n",
       "      <td>SONAEOM12AF72A05DF</td>\n",
       "    </tr>\n",
       "  </tbody>\n",
       "</table>\n",
       "<p>100 rows × 2 columns</p>\n",
       "</div>"
      ],
      "text/plain": [
       "        play_count                song\n",
       "384446           1  SOLISVT12AB018A3DA\n",
       "384447           1  SOGUIBA12A81C22838\n",
       "384448           1  SOUXWZU12A6D4F5C1A\n",
       "384449           1  SODYGBQ12A6D4F5C17\n",
       "384450           1  SOEFSRN12A6D4F7B08\n",
       "384451           1  SOEHFVN12AB017F8A3\n",
       "384452           1  SOBGACN12A8C13E14D\n",
       "384453           1  SOGQOPP12AB0182202\n",
       "384454           1  SOBVKJJ12A6D4F8C85\n",
       "384455           1  SOKDDNH12AB017EEA9\n",
       "384456           1  SOLDOJV12A8151E099\n",
       "384457           1  SOTRRPI12AAF3B4FF7\n",
       "384458           1  SOYVPQT12A58A796ED\n",
       "384459           1  SOOUIUV12A6D4F9E8E\n",
       "384460           1  SOKRQIB12A6D4F9E8F\n",
       "384461           1  SOGWBER12A8C13ECFB\n",
       "384462           1  SOEEZDN12A6D4F9E8D\n",
       "384463           1  SOMUFQI12AB0187429\n",
       "384464           1  SODTXMH12A8C135607\n",
       "384465           1  SOAQIRD12A6D4F8346\n",
       "384466           1  SOGSMDR12AB018BE42\n",
       "384467           1  SOHBIOW12AB018A4AA\n",
       "384468           1  SOLMMXJ12AB0182891\n",
       "384469           1  SORTFNJ12A8C141773\n",
       "384470           1  SOLDEVA12A8C133E43\n",
       "384471           1  SOGNGGQ12A8C134689\n",
       "384472           1  SOWLZPN12A58A7CB0D\n",
       "384473           1  SOKXODU12A6701FF9E\n",
       "384474           1  SOTMIZV12A58A7D3AA\n",
       "384475           1  SOJOUSN12AF72AD03C\n",
       "...            ...                 ...\n",
       "384516           1  SOABGTM12AC4688122\n",
       "384517           1  SOABYGG12AB018BD60\n",
       "384518           1  SORQYLV12A8C13BD92\n",
       "384519           1  SOHLAXW12AB01813FC\n",
       "384520           1  SOGIRUJ12AB018AD79\n",
       "384521           1  SOAOAOQ12A8C13FAAD\n",
       "384522           1  SOIYBRH12A8C140CCF\n",
       "384523           1  SOAKAFJ12A8C13967F\n",
       "384524           1  SOULSPL12A6D4FBD72\n",
       "384525           1  SOWOARW12A6D4FBD6F\n",
       "384526           1  SOZWRLL12A6D4FBD70\n",
       "384527           1  SOFFZUS12AB018865D\n",
       "384528           1  SODYLBR12AB017F4F4\n",
       "384529           1  SONFDYZ12A6D4FE56A\n",
       "384530           1  SODHIXU12A58A79BAC\n",
       "384531           1  SORPUMV12A8C140BB5\n",
       "384532           1  SOEUUBA12A8C138705\n",
       "384533           1  SOBLWJV12AB01874A7\n",
       "384534           1  SOJNESC12A58A7E2AE\n",
       "384535           1  SOJHNNB12AB01870DC\n",
       "384536           1  SOIWHVN12AB0185FA1\n",
       "384537           1  SOIWHYP12AB01851EC\n",
       "384538           1  SOPCYBK12A8C13AAEC\n",
       "384539           1  SOXABZJ12A6D4F99AB\n",
       "384540           1  SORVPSU12AB0185FA6\n",
       "384541           1  SOXZARS12AB01851EE\n",
       "384542           1  SOCCQEA12AB017E7CF\n",
       "384543           1  SOGNHOL12A8C13C379\n",
       "384544           1  SOPXELI12A8C13FAB0\n",
       "384545           1  SONAEOM12AF72A05DF\n",
       "\n",
       "[100 rows x 2 columns]"
      ]
     },
     "execution_count": 7,
     "metadata": {},
     "output_type": "execute_result"
    }
   ],
   "source": [
    "song_count_df.tail(100)"
   ]
  },
  {
   "cell_type": "markdown",
   "metadata": {},
   "source": [
    "### 4 取出数据的一部分子集(可代表大部分样本)作为实验数据\n"
   ]
  },
  {
   "cell_type": "code",
   "execution_count": 5,
   "metadata": {},
   "outputs": [
    {
     "name": "stdout",
     "output_type": "stream",
     "text": [
      "51.1606033168\n"
     ]
    }
   ],
   "source": [
    "# 前20w用户播放量占总播放量的比例  \n",
    "total_play_count = sum(song_count_df.play_count)\n",
    "print ((float(play_count_df.head(n=150000).play_count.sum())/total_play_count)*100)\n",
    "play_count_subset = play_count_df.head(n=150000)"
   ]
  },
  {
   "cell_type": "code",
   "execution_count": 6,
   "metadata": {},
   "outputs": [
    {
     "name": "stdout",
     "output_type": "stream",
     "text": [
      "78.3931536665\n"
     ]
    }
   ],
   "source": [
    "# 前3w首歌播放量占总播放量的比例 \n",
    "print((float(song_count_df.head(n=30000).play_count.sum())/total_play_count)*100)\n",
    "song_count_subset = song_count_df.head(n=30000)"
   ]
  },
  {
   "cell_type": "markdown",
   "metadata": {},
   "source": [
    "从以上数据中可以看出，少部分用户播放量占总体大部分，少部分歌曲被播放的次数占总体大部分。"
   ]
  },
  {
   "cell_type": "code",
   "execution_count": 7,
   "metadata": {
    "collapsed": true
   },
   "outputs": [],
   "source": [
    "user_subset = list(play_count_subset.user)\n",
    "song_subset = list(song_count_subset.song)"
   ]
  },
  {
   "cell_type": "markdown",
   "metadata": {},
   "source": [
    "#### 过滤其他数据"
   ]
  },
  {
   "cell_type": "code",
   "execution_count": 11,
   "metadata": {
    "collapsed": true
   },
   "outputs": [],
   "source": [
    "triplet_dataset = pd.read_csv(filepath_or_buffer=data_home+'train_triplets.txt',sep='\\t', \n",
    "                              header=None, names=['user','song','play_count'])\n",
    "triplet_dataset_sub = triplet_dataset[triplet_dataset.user.isin(user_subset) ]\n",
    "del(triplet_dataset)\n",
    "triplet_dataset_sub_song = triplet_dataset_sub[triplet_dataset_sub.song.isin(song_subset)]\n",
    "del(triplet_dataset_sub)"
   ]
  },
  {
   "cell_type": "code",
   "execution_count": 12,
   "metadata": {
    "collapsed": true
   },
   "outputs": [],
   "source": [
    "triplet_dataset_sub_song.to_csv(path_or_buf=data_home+'triplet_dataset_sub_song.csv', index=False)"
   ]
  },
  {
   "cell_type": "code",
   "execution_count": 13,
   "metadata": {},
   "outputs": [
    {
     "data": {
      "text/plain": [
       "(14170027, 3)"
      ]
     },
     "execution_count": 13,
     "metadata": {},
     "output_type": "execute_result"
    }
   ],
   "source": [
    "triplet_dataset_sub_song.shape"
   ]
  },
  {
   "cell_type": "code",
   "execution_count": 14,
   "metadata": {},
   "outputs": [
    {
     "data": {
      "text/html": [
       "<div>\n",
       "<style>\n",
       "    .dataframe thead tr:only-child th {\n",
       "        text-align: right;\n",
       "    }\n",
       "\n",
       "    .dataframe thead th {\n",
       "        text-align: left;\n",
       "    }\n",
       "\n",
       "    .dataframe tbody tr th {\n",
       "        vertical-align: top;\n",
       "    }\n",
       "</style>\n",
       "<table border=\"1\" class=\"dataframe\">\n",
       "  <thead>\n",
       "    <tr style=\"text-align: right;\">\n",
       "      <th></th>\n",
       "      <th>user</th>\n",
       "      <th>song</th>\n",
       "      <th>play_count</th>\n",
       "    </tr>\n",
       "  </thead>\n",
       "  <tbody>\n",
       "    <tr>\n",
       "      <th>498</th>\n",
       "      <td>d6589314c0a9bcbca4fee0c93b14bc402363afea</td>\n",
       "      <td>SOADQPP12A67020C82</td>\n",
       "      <td>12</td>\n",
       "    </tr>\n",
       "    <tr>\n",
       "      <th>499</th>\n",
       "      <td>d6589314c0a9bcbca4fee0c93b14bc402363afea</td>\n",
       "      <td>SOAFTRR12AF72A8D4D</td>\n",
       "      <td>1</td>\n",
       "    </tr>\n",
       "    <tr>\n",
       "      <th>500</th>\n",
       "      <td>d6589314c0a9bcbca4fee0c93b14bc402363afea</td>\n",
       "      <td>SOANQFY12AB0183239</td>\n",
       "      <td>1</td>\n",
       "    </tr>\n",
       "    <tr>\n",
       "      <th>501</th>\n",
       "      <td>d6589314c0a9bcbca4fee0c93b14bc402363afea</td>\n",
       "      <td>SOAYATB12A6701FD50</td>\n",
       "      <td>1</td>\n",
       "    </tr>\n",
       "    <tr>\n",
       "      <th>502</th>\n",
       "      <td>d6589314c0a9bcbca4fee0c93b14bc402363afea</td>\n",
       "      <td>SOBOAFP12A8C131F36</td>\n",
       "      <td>7</td>\n",
       "    </tr>\n",
       "    <tr>\n",
       "      <th>503</th>\n",
       "      <td>d6589314c0a9bcbca4fee0c93b14bc402363afea</td>\n",
       "      <td>SOBONKR12A58A7A7E0</td>\n",
       "      <td>26</td>\n",
       "    </tr>\n",
       "    <tr>\n",
       "      <th>504</th>\n",
       "      <td>d6589314c0a9bcbca4fee0c93b14bc402363afea</td>\n",
       "      <td>SOBZZDU12A6310D8A3</td>\n",
       "      <td>7</td>\n",
       "    </tr>\n",
       "    <tr>\n",
       "      <th>505</th>\n",
       "      <td>d6589314c0a9bcbca4fee0c93b14bc402363afea</td>\n",
       "      <td>SOCAHRT12A8C13A1A4</td>\n",
       "      <td>5</td>\n",
       "    </tr>\n",
       "    <tr>\n",
       "      <th>506</th>\n",
       "      <td>d6589314c0a9bcbca4fee0c93b14bc402363afea</td>\n",
       "      <td>SODASIJ12A6D4F5D89</td>\n",
       "      <td>1</td>\n",
       "    </tr>\n",
       "    <tr>\n",
       "      <th>507</th>\n",
       "      <td>d6589314c0a9bcbca4fee0c93b14bc402363afea</td>\n",
       "      <td>SODEAWL12AB0187032</td>\n",
       "      <td>8</td>\n",
       "    </tr>\n",
       "  </tbody>\n",
       "</table>\n",
       "</div>"
      ],
      "text/plain": [
       "                                         user                song  play_count\n",
       "498  d6589314c0a9bcbca4fee0c93b14bc402363afea  SOADQPP12A67020C82          12\n",
       "499  d6589314c0a9bcbca4fee0c93b14bc402363afea  SOAFTRR12AF72A8D4D           1\n",
       "500  d6589314c0a9bcbca4fee0c93b14bc402363afea  SOANQFY12AB0183239           1\n",
       "501  d6589314c0a9bcbca4fee0c93b14bc402363afea  SOAYATB12A6701FD50           1\n",
       "502  d6589314c0a9bcbca4fee0c93b14bc402363afea  SOBOAFP12A8C131F36           7\n",
       "503  d6589314c0a9bcbca4fee0c93b14bc402363afea  SOBONKR12A58A7A7E0          26\n",
       "504  d6589314c0a9bcbca4fee0c93b14bc402363afea  SOBZZDU12A6310D8A3           7\n",
       "505  d6589314c0a9bcbca4fee0c93b14bc402363afea  SOCAHRT12A8C13A1A4           5\n",
       "506  d6589314c0a9bcbca4fee0c93b14bc402363afea  SODASIJ12A6D4F5D89           1\n",
       "507  d6589314c0a9bcbca4fee0c93b14bc402363afea  SODEAWL12AB0187032           8"
      ]
     },
     "execution_count": 14,
     "metadata": {},
     "output_type": "execute_result"
    }
   ],
   "source": [
    "triplet_dataset_sub_song.head(n=10)"
   ]
  },
  {
   "cell_type": "markdown",
   "metadata": {
    "collapsed": true
   },
   "source": [
    "### 5 从数据库文件中读取歌曲详细信息数据\n",
    ".db文件需要稍微处理下 转换成csv\n"
   ]
  },
  {
   "cell_type": "code",
   "execution_count": 15,
   "metadata": {},
   "outputs": [
    {
     "data": {
      "text/plain": [
       "[('songs',)]"
      ]
     },
     "execution_count": 15,
     "metadata": {},
     "output_type": "execute_result"
    }
   ],
   "source": [
    "conn = sqlite3.connect(data_home + 'track_metadata.db')\n",
    "cur = conn.cursor()\n",
    "cur.execute(\"SELECT name FROM sqlite_master WHERE type='table'\")\n",
    "cur.fetchall()"
   ]
  },
  {
   "cell_type": "code",
   "execution_count": 21,
   "metadata": {
    "collapsed": true
   },
   "outputs": [],
   "source": [
    "track_metadata_df = pd.read_sql(con=conn, sql='SELECT * FROM songs')                                      \n",
    "track_metadata_df_sub = track_metadata_df[track_metadata_df.song_id.isin(song_subset)]                                          "
   ]
  },
  {
   "cell_type": "code",
   "execution_count": 19,
   "metadata": {
    "collapsed": true
   },
   "outputs": [],
   "source": [
    "track_metadata_df_sub.to_csv(path_or_buf=data_home+'track_metadata_df_sub.csv', index=False)"
   ]
  },
  {
   "cell_type": "code",
   "execution_count": 20,
   "metadata": {},
   "outputs": [
    {
     "data": {
      "text/plain": [
       "(30447, 14)"
      ]
     },
     "execution_count": 20,
     "metadata": {},
     "output_type": "execute_result"
    }
   ],
   "source": [
    "track_metadata_df_sub.shape"
   ]
  },
  {
   "cell_type": "code",
   "execution_count": null,
   "metadata": {
    "collapsed": true
   },
   "outputs": [],
   "source": []
  },
  {
   "cell_type": "code",
   "execution_count": 4,
   "metadata": {
    "collapsed": true
   },
   "outputs": [],
   "source": [
    "triplet_dataset_sub_song = pd.read_csv(filepath_or_buffer=data_home+'triplet_dataset_sub_song.csv',encoding = \"ISO-8859-1\")\n",
    "track_metadata_df_sub = pd.read_csv(filepath_or_buffer=data_home+'track_metadata_df_sub.csv',encoding = \"ISO-8859-1\")"
   ]
  },
  {
   "cell_type": "code",
   "execution_count": 5,
   "metadata": {},
   "outputs": [
    {
     "data": {
      "text/html": [
       "<div>\n",
       "<style>\n",
       "    .dataframe thead tr:only-child th {\n",
       "        text-align: right;\n",
       "    }\n",
       "\n",
       "    .dataframe thead th {\n",
       "        text-align: left;\n",
       "    }\n",
       "\n",
       "    .dataframe tbody tr th {\n",
       "        vertical-align: top;\n",
       "    }\n",
       "</style>\n",
       "<table border=\"1\" class=\"dataframe\">\n",
       "  <thead>\n",
       "    <tr style=\"text-align: right;\">\n",
       "      <th></th>\n",
       "      <th>user</th>\n",
       "      <th>song</th>\n",
       "      <th>play_count</th>\n",
       "    </tr>\n",
       "  </thead>\n",
       "  <tbody>\n",
       "    <tr>\n",
       "      <th>0</th>\n",
       "      <td>d6589314c0a9bcbca4fee0c93b14bc402363afea</td>\n",
       "      <td>SOADQPP12A67020C82</td>\n",
       "      <td>12</td>\n",
       "    </tr>\n",
       "    <tr>\n",
       "      <th>1</th>\n",
       "      <td>d6589314c0a9bcbca4fee0c93b14bc402363afea</td>\n",
       "      <td>SOAFTRR12AF72A8D4D</td>\n",
       "      <td>1</td>\n",
       "    </tr>\n",
       "    <tr>\n",
       "      <th>2</th>\n",
       "      <td>d6589314c0a9bcbca4fee0c93b14bc402363afea</td>\n",
       "      <td>SOANQFY12AB0183239</td>\n",
       "      <td>1</td>\n",
       "    </tr>\n",
       "    <tr>\n",
       "      <th>3</th>\n",
       "      <td>d6589314c0a9bcbca4fee0c93b14bc402363afea</td>\n",
       "      <td>SOAYATB12A6701FD50</td>\n",
       "      <td>1</td>\n",
       "    </tr>\n",
       "    <tr>\n",
       "      <th>4</th>\n",
       "      <td>d6589314c0a9bcbca4fee0c93b14bc402363afea</td>\n",
       "      <td>SOBOAFP12A8C131F36</td>\n",
       "      <td>7</td>\n",
       "    </tr>\n",
       "  </tbody>\n",
       "</table>\n",
       "</div>"
      ],
      "text/plain": [
       "                                       user                song  play_count\n",
       "0  d6589314c0a9bcbca4fee0c93b14bc402363afea  SOADQPP12A67020C82          12\n",
       "1  d6589314c0a9bcbca4fee0c93b14bc402363afea  SOAFTRR12AF72A8D4D           1\n",
       "2  d6589314c0a9bcbca4fee0c93b14bc402363afea  SOANQFY12AB0183239           1\n",
       "3  d6589314c0a9bcbca4fee0c93b14bc402363afea  SOAYATB12A6701FD50           1\n",
       "4  d6589314c0a9bcbca4fee0c93b14bc402363afea  SOBOAFP12A8C131F36           7"
      ]
     },
     "execution_count": 5,
     "metadata": {},
     "output_type": "execute_result"
    }
   ],
   "source": [
    "triplet_dataset_sub_song.head()"
   ]
  },
  {
   "cell_type": "code",
   "execution_count": 6,
   "metadata": {},
   "outputs": [
    {
     "data": {
      "text/html": [
       "<div>\n",
       "<style>\n",
       "    .dataframe thead tr:only-child th {\n",
       "        text-align: right;\n",
       "    }\n",
       "\n",
       "    .dataframe thead th {\n",
       "        text-align: left;\n",
       "    }\n",
       "\n",
       "    .dataframe tbody tr th {\n",
       "        vertical-align: top;\n",
       "    }\n",
       "</style>\n",
       "<table border=\"1\" class=\"dataframe\">\n",
       "  <thead>\n",
       "    <tr style=\"text-align: right;\">\n",
       "      <th></th>\n",
       "      <th>track_id</th>\n",
       "      <th>title</th>\n",
       "      <th>song_id</th>\n",
       "      <th>release</th>\n",
       "      <th>artist_id</th>\n",
       "      <th>artist_mbid</th>\n",
       "      <th>artist_name</th>\n",
       "      <th>duration</th>\n",
       "      <th>artist_familiarity</th>\n",
       "      <th>artist_hotttnesss</th>\n",
       "      <th>year</th>\n",
       "      <th>track_7digitalid</th>\n",
       "      <th>shs_perf</th>\n",
       "      <th>shs_work</th>\n",
       "    </tr>\n",
       "  </thead>\n",
       "  <tbody>\n",
       "    <tr>\n",
       "      <th>0</th>\n",
       "      <td>TRMMGCB128E079651D</td>\n",
       "      <td>Get Along (Feat: Pace Won) (Instrumental)</td>\n",
       "      <td>SOHNWIM12A67ADF7D9</td>\n",
       "      <td>Charango</td>\n",
       "      <td>ARU3C671187FB3F71B</td>\n",
       "      <td>067102ea-9519-4622-9077-57ca4164cfbb</td>\n",
       "      <td>Morcheeba</td>\n",
       "      <td>227.47383</td>\n",
       "      <td>0.819087</td>\n",
       "      <td>0.533117</td>\n",
       "      <td>2002</td>\n",
       "      <td>185967</td>\n",
       "      <td>-1</td>\n",
       "      <td>0</td>\n",
       "    </tr>\n",
       "    <tr>\n",
       "      <th>1</th>\n",
       "      <td>TRMMGTX128F92FB4D9</td>\n",
       "      <td>Viejo</td>\n",
       "      <td>SOECFIW12A8C144546</td>\n",
       "      <td>Caraluna</td>\n",
       "      <td>ARPAAPH1187FB3601B</td>\n",
       "      <td>f69d655c-ffd6-4bee-8c2a-3086b2be2fc6</td>\n",
       "      <td>Bacilos</td>\n",
       "      <td>307.51302</td>\n",
       "      <td>0.595554</td>\n",
       "      <td>0.400705</td>\n",
       "      <td>0</td>\n",
       "      <td>6825058</td>\n",
       "      <td>-1</td>\n",
       "      <td>0</td>\n",
       "    </tr>\n",
       "    <tr>\n",
       "      <th>2</th>\n",
       "      <td>TRMMGDP128F933E59A</td>\n",
       "      <td>I Say A Little Prayer</td>\n",
       "      <td>SOGWEOB12AB018A4D0</td>\n",
       "      <td>The Legendary Hi Records Albums_ Volume 3: Ful...</td>\n",
       "      <td>ARNNRN31187B9AE7B7</td>\n",
       "      <td>fb7272ba-f130-4f0a-934d-6eeea4c18c9a</td>\n",
       "      <td>Al Green</td>\n",
       "      <td>133.58975</td>\n",
       "      <td>0.779490</td>\n",
       "      <td>0.599210</td>\n",
       "      <td>1978</td>\n",
       "      <td>5211723</td>\n",
       "      <td>-1</td>\n",
       "      <td>11898</td>\n",
       "    </tr>\n",
       "    <tr>\n",
       "      <th>3</th>\n",
       "      <td>TRMMHBF12903CF6E59</td>\n",
       "      <td>At the Ball_ That's All</td>\n",
       "      <td>SOJGCRL12A8C144187</td>\n",
       "      <td>Best of Laurel &amp; Hardy - The Lonesome Pine</td>\n",
       "      <td>AR1FEUF1187B9AF3E3</td>\n",
       "      <td>4a8ae4fd-ad6f-4912-851f-093f12ee3572</td>\n",
       "      <td>Laurel &amp; Hardy</td>\n",
       "      <td>123.71546</td>\n",
       "      <td>0.438709</td>\n",
       "      <td>0.307120</td>\n",
       "      <td>0</td>\n",
       "      <td>8645877</td>\n",
       "      <td>-1</td>\n",
       "      <td>0</td>\n",
       "    </tr>\n",
       "    <tr>\n",
       "      <th>4</th>\n",
       "      <td>TRMMHKG12903CDB1B5</td>\n",
       "      <td>Black Gold</td>\n",
       "      <td>SOHNFBA12AB018CD1D</td>\n",
       "      <td>Total Life Forever</td>\n",
       "      <td>ARVXV1J1187FB5BF88</td>\n",
       "      <td>6a65d878-fcd0-42cf-aff9-ca1d636a8bcc</td>\n",
       "      <td>Foals</td>\n",
       "      <td>386.32444</td>\n",
       "      <td>0.842578</td>\n",
       "      <td>0.514523</td>\n",
       "      <td>2010</td>\n",
       "      <td>9007438</td>\n",
       "      <td>-1</td>\n",
       "      <td>0</td>\n",
       "    </tr>\n",
       "  </tbody>\n",
       "</table>\n",
       "</div>"
      ],
      "text/plain": [
       "             track_id                                      title  \\\n",
       "0  TRMMGCB128E079651D  Get Along (Feat: Pace Won) (Instrumental)   \n",
       "1  TRMMGTX128F92FB4D9                                      Viejo   \n",
       "2  TRMMGDP128F933E59A                      I Say A Little Prayer   \n",
       "3  TRMMHBF12903CF6E59                    At the Ball_ That's All   \n",
       "4  TRMMHKG12903CDB1B5                                 Black Gold   \n",
       "\n",
       "              song_id                                            release  \\\n",
       "0  SOHNWIM12A67ADF7D9                                           Charango   \n",
       "1  SOECFIW12A8C144546                                           Caraluna   \n",
       "2  SOGWEOB12AB018A4D0  The Legendary Hi Records Albums_ Volume 3: Ful...   \n",
       "3  SOJGCRL12A8C144187         Best of Laurel & Hardy - The Lonesome Pine   \n",
       "4  SOHNFBA12AB018CD1D                                 Total Life Forever   \n",
       "\n",
       "            artist_id                           artist_mbid     artist_name  \\\n",
       "0  ARU3C671187FB3F71B  067102ea-9519-4622-9077-57ca4164cfbb       Morcheeba   \n",
       "1  ARPAAPH1187FB3601B  f69d655c-ffd6-4bee-8c2a-3086b2be2fc6         Bacilos   \n",
       "2  ARNNRN31187B9AE7B7  fb7272ba-f130-4f0a-934d-6eeea4c18c9a        Al Green   \n",
       "3  AR1FEUF1187B9AF3E3  4a8ae4fd-ad6f-4912-851f-093f12ee3572  Laurel & Hardy   \n",
       "4  ARVXV1J1187FB5BF88  6a65d878-fcd0-42cf-aff9-ca1d636a8bcc           Foals   \n",
       "\n",
       "    duration  artist_familiarity  artist_hotttnesss  year  track_7digitalid  \\\n",
       "0  227.47383            0.819087           0.533117  2002            185967   \n",
       "1  307.51302            0.595554           0.400705     0           6825058   \n",
       "2  133.58975            0.779490           0.599210  1978           5211723   \n",
       "3  123.71546            0.438709           0.307120     0           8645877   \n",
       "4  386.32444            0.842578           0.514523  2010           9007438   \n",
       "\n",
       "   shs_perf  shs_work  \n",
       "0        -1         0  \n",
       "1        -1         0  \n",
       "2        -1     11898  \n",
       "3        -1         0  \n",
       "4        -1         0  "
      ]
     },
     "execution_count": 6,
     "metadata": {},
     "output_type": "execute_result"
    }
   ],
   "source": [
    "track_metadata_df_sub.head()"
   ]
  },
  {
   "cell_type": "markdown",
   "metadata": {
    "collapsed": true
   },
   "source": [
    "## 二 数据清洗"
   ]
  },
  {
   "cell_type": "markdown",
   "metadata": {
    "collapsed": true
   },
   "source": [
    "### 1 删除与推荐关系不大的以及重复的数据"
   ]
  },
  {
   "cell_type": "code",
   "execution_count": 7,
   "metadata": {
    "collapsed": true
   },
   "outputs": [],
   "source": [
    "del(track_metadata_df_sub['track_id'])\n",
    "del(track_metadata_df_sub['artist_mbid'])"
   ]
  },
  {
   "cell_type": "code",
   "execution_count": 8,
   "metadata": {},
   "outputs": [
    {
     "data": {
      "text/html": [
       "<div>\n",
       "<style>\n",
       "    .dataframe thead tr:only-child th {\n",
       "        text-align: right;\n",
       "    }\n",
       "\n",
       "    .dataframe thead th {\n",
       "        text-align: left;\n",
       "    }\n",
       "\n",
       "    .dataframe tbody tr th {\n",
       "        vertical-align: top;\n",
       "    }\n",
       "</style>\n",
       "<table border=\"1\" class=\"dataframe\">\n",
       "  <thead>\n",
       "    <tr style=\"text-align: right;\">\n",
       "      <th></th>\n",
       "      <th>user</th>\n",
       "      <th>song</th>\n",
       "      <th>listen_count</th>\n",
       "      <th>title</th>\n",
       "      <th>song_id</th>\n",
       "      <th>release</th>\n",
       "      <th>artist_id</th>\n",
       "      <th>artist_name</th>\n",
       "      <th>duration</th>\n",
       "      <th>artist_familiarity</th>\n",
       "      <th>artist_hotttnesss</th>\n",
       "      <th>year</th>\n",
       "      <th>track_7digitalid</th>\n",
       "      <th>shs_perf</th>\n",
       "      <th>shs_work</th>\n",
       "    </tr>\n",
       "  </thead>\n",
       "  <tbody>\n",
       "    <tr>\n",
       "      <th>0</th>\n",
       "      <td>d6589314c0a9bcbca4fee0c93b14bc402363afea</td>\n",
       "      <td>SOADQPP12A67020C82</td>\n",
       "      <td>12</td>\n",
       "      <td>You And Me Jesus</td>\n",
       "      <td>SOADQPP12A67020C82</td>\n",
       "      <td>Tribute To Jake Hess</td>\n",
       "      <td>ARDFZE61187FB45994</td>\n",
       "      <td>Jake Hess</td>\n",
       "      <td>199.26159</td>\n",
       "      <td>0.374553</td>\n",
       "      <td>0.327544</td>\n",
       "      <td>2004</td>\n",
       "      <td>142275</td>\n",
       "      <td>-1</td>\n",
       "      <td>0</td>\n",
       "    </tr>\n",
       "    <tr>\n",
       "      <th>1</th>\n",
       "      <td>d6589314c0a9bcbca4fee0c93b14bc402363afea</td>\n",
       "      <td>SOAFTRR12AF72A8D4D</td>\n",
       "      <td>1</td>\n",
       "      <td>Harder Better Faster Stronger</td>\n",
       "      <td>SOAFTRR12AF72A8D4D</td>\n",
       "      <td>Discovery</td>\n",
       "      <td>ARF8HTQ1187B9AE693</td>\n",
       "      <td>Daft Punk</td>\n",
       "      <td>223.60771</td>\n",
       "      <td>0.902841</td>\n",
       "      <td>1.021256</td>\n",
       "      <td>2007</td>\n",
       "      <td>485119</td>\n",
       "      <td>-1</td>\n",
       "      <td>0</td>\n",
       "    </tr>\n",
       "    <tr>\n",
       "      <th>2</th>\n",
       "      <td>d6589314c0a9bcbca4fee0c93b14bc402363afea</td>\n",
       "      <td>SOANQFY12AB0183239</td>\n",
       "      <td>1</td>\n",
       "      <td>Uprising</td>\n",
       "      <td>SOANQFY12AB0183239</td>\n",
       "      <td>Uprising</td>\n",
       "      <td>ARR3ONV1187B9A2F59</td>\n",
       "      <td>Muse</td>\n",
       "      <td>304.84853</td>\n",
       "      <td>0.929030</td>\n",
       "      <td>0.750427</td>\n",
       "      <td>0</td>\n",
       "      <td>6024257</td>\n",
       "      <td>-1</td>\n",
       "      <td>0</td>\n",
       "    </tr>\n",
       "    <tr>\n",
       "      <th>3</th>\n",
       "      <td>d6589314c0a9bcbca4fee0c93b14bc402363afea</td>\n",
       "      <td>SOAYATB12A6701FD50</td>\n",
       "      <td>1</td>\n",
       "      <td>Breakfast At Tiffany's</td>\n",
       "      <td>SOAYATB12A6701FD50</td>\n",
       "      <td>Home</td>\n",
       "      <td>AR97V5X1187FB4AE98</td>\n",
       "      <td>Deep Blue Something</td>\n",
       "      <td>257.22730</td>\n",
       "      <td>0.655889</td>\n",
       "      <td>0.409729</td>\n",
       "      <td>1993</td>\n",
       "      <td>163047</td>\n",
       "      <td>-1</td>\n",
       "      <td>0</td>\n",
       "    </tr>\n",
       "    <tr>\n",
       "      <th>4</th>\n",
       "      <td>d6589314c0a9bcbca4fee0c93b14bc402363afea</td>\n",
       "      <td>SOBOAFP12A8C131F36</td>\n",
       "      <td>7</td>\n",
       "      <td>Lucky (Album Version)</td>\n",
       "      <td>SOBOAFP12A8C131F36</td>\n",
       "      <td>We Sing.  We Dance.  We Steal Things.</td>\n",
       "      <td>ARML3X41187FB35F2E</td>\n",
       "      <td>Jason Mraz &amp; Colbie Caillat</td>\n",
       "      <td>189.62240</td>\n",
       "      <td>0.842972</td>\n",
       "      <td>0.770117</td>\n",
       "      <td>0</td>\n",
       "      <td>2638597</td>\n",
       "      <td>-1</td>\n",
       "      <td>0</td>\n",
       "    </tr>\n",
       "  </tbody>\n",
       "</table>\n",
       "</div>"
      ],
      "text/plain": [
       "                                       user                song  listen_count  \\\n",
       "0  d6589314c0a9bcbca4fee0c93b14bc402363afea  SOADQPP12A67020C82            12   \n",
       "1  d6589314c0a9bcbca4fee0c93b14bc402363afea  SOAFTRR12AF72A8D4D             1   \n",
       "2  d6589314c0a9bcbca4fee0c93b14bc402363afea  SOANQFY12AB0183239             1   \n",
       "3  d6589314c0a9bcbca4fee0c93b14bc402363afea  SOAYATB12A6701FD50             1   \n",
       "4  d6589314c0a9bcbca4fee0c93b14bc402363afea  SOBOAFP12A8C131F36             7   \n",
       "\n",
       "                           title             song_id  \\\n",
       "0               You And Me Jesus  SOADQPP12A67020C82   \n",
       "1  Harder Better Faster Stronger  SOAFTRR12AF72A8D4D   \n",
       "2                       Uprising  SOANQFY12AB0183239   \n",
       "3         Breakfast At Tiffany's  SOAYATB12A6701FD50   \n",
       "4          Lucky (Album Version)  SOBOAFP12A8C131F36   \n",
       "\n",
       "                                 release           artist_id  \\\n",
       "0                   Tribute To Jake Hess  ARDFZE61187FB45994   \n",
       "1                              Discovery  ARF8HTQ1187B9AE693   \n",
       "2                               Uprising  ARR3ONV1187B9A2F59   \n",
       "3                                   Home  AR97V5X1187FB4AE98   \n",
       "4  We Sing.  We Dance.  We Steal Things.  ARML3X41187FB35F2E   \n",
       "\n",
       "                   artist_name   duration  artist_familiarity  \\\n",
       "0                    Jake Hess  199.26159            0.374553   \n",
       "1                    Daft Punk  223.60771            0.902841   \n",
       "2                         Muse  304.84853            0.929030   \n",
       "3          Deep Blue Something  257.22730            0.655889   \n",
       "4  Jason Mraz & Colbie Caillat  189.62240            0.842972   \n",
       "\n",
       "   artist_hotttnesss  year  track_7digitalid  shs_perf  shs_work  \n",
       "0           0.327544  2004            142275        -1         0  \n",
       "1           1.021256  2007            485119        -1         0  \n",
       "2           0.750427     0           6024257        -1         0  \n",
       "3           0.409729  1993            163047        -1         0  \n",
       "4           0.770117     0           2638597        -1         0  "
      ]
     },
     "execution_count": 8,
     "metadata": {},
     "output_type": "execute_result"
    }
   ],
   "source": [
    "triplet_dataset_sub_song_merged = pd.merge(triplet_dataset_sub_song, track_metadata_df_sub, how='left', left_on='song', right_on='song_id')\n",
    "triplet_dataset_sub_song_merged.rename(columns={'play_count':'listen_count'},inplace=True)\n",
    "triplet_dataset_sub_song_merged.head()"
   ]
  },
  {
   "cell_type": "code",
   "execution_count": 9,
   "metadata": {
    "collapsed": true
   },
   "outputs": [],
   "source": [
    "del(triplet_dataset_sub_song_merged['song_id'])\n",
    "del(triplet_dataset_sub_song_merged['artist_id'])\n",
    "del(triplet_dataset_sub_song_merged['duration'])\n",
    "del(triplet_dataset_sub_song_merged['artist_familiarity'])\n",
    "del(triplet_dataset_sub_song_merged['artist_hotttnesss'])\n",
    "del(triplet_dataset_sub_song_merged['track_7digitalid'])\n",
    "del(triplet_dataset_sub_song_merged['shs_perf'])\n",
    "del(triplet_dataset_sub_song_merged['shs_work'])"
   ]
  },
  {
   "cell_type": "code",
   "execution_count": 13,
   "metadata": {},
   "outputs": [
    {
     "data": {
      "text/html": [
       "<div>\n",
       "<style>\n",
       "    .dataframe thead tr:only-child th {\n",
       "        text-align: right;\n",
       "    }\n",
       "\n",
       "    .dataframe thead th {\n",
       "        text-align: left;\n",
       "    }\n",
       "\n",
       "    .dataframe tbody tr th {\n",
       "        vertical-align: top;\n",
       "    }\n",
       "</style>\n",
       "<table border=\"1\" class=\"dataframe\">\n",
       "  <thead>\n",
       "    <tr style=\"text-align: right;\">\n",
       "      <th></th>\n",
       "      <th>user</th>\n",
       "      <th>song</th>\n",
       "      <th>listen_count</th>\n",
       "      <th>title</th>\n",
       "      <th>release</th>\n",
       "      <th>artist_name</th>\n",
       "      <th>year</th>\n",
       "    </tr>\n",
       "  </thead>\n",
       "  <tbody>\n",
       "    <tr>\n",
       "      <th>0</th>\n",
       "      <td>d6589314c0a9bcbca4fee0c93b14bc402363afea</td>\n",
       "      <td>SOADQPP12A67020C82</td>\n",
       "      <td>12</td>\n",
       "      <td>You And Me Jesus</td>\n",
       "      <td>Tribute To Jake Hess</td>\n",
       "      <td>Jake Hess</td>\n",
       "      <td>2004</td>\n",
       "    </tr>\n",
       "    <tr>\n",
       "      <th>1</th>\n",
       "      <td>d6589314c0a9bcbca4fee0c93b14bc402363afea</td>\n",
       "      <td>SOAFTRR12AF72A8D4D</td>\n",
       "      <td>1</td>\n",
       "      <td>Harder Better Faster Stronger</td>\n",
       "      <td>Discovery</td>\n",
       "      <td>Daft Punk</td>\n",
       "      <td>2007</td>\n",
       "    </tr>\n",
       "    <tr>\n",
       "      <th>2</th>\n",
       "      <td>d6589314c0a9bcbca4fee0c93b14bc402363afea</td>\n",
       "      <td>SOANQFY12AB0183239</td>\n",
       "      <td>1</td>\n",
       "      <td>Uprising</td>\n",
       "      <td>Uprising</td>\n",
       "      <td>Muse</td>\n",
       "      <td>0</td>\n",
       "    </tr>\n",
       "    <tr>\n",
       "      <th>3</th>\n",
       "      <td>d6589314c0a9bcbca4fee0c93b14bc402363afea</td>\n",
       "      <td>SOAYATB12A6701FD50</td>\n",
       "      <td>1</td>\n",
       "      <td>Breakfast At Tiffany's</td>\n",
       "      <td>Home</td>\n",
       "      <td>Deep Blue Something</td>\n",
       "      <td>1993</td>\n",
       "    </tr>\n",
       "    <tr>\n",
       "      <th>4</th>\n",
       "      <td>d6589314c0a9bcbca4fee0c93b14bc402363afea</td>\n",
       "      <td>SOBOAFP12A8C131F36</td>\n",
       "      <td>7</td>\n",
       "      <td>Lucky (Album Version)</td>\n",
       "      <td>We Sing.  We Dance.  We Steal Things.</td>\n",
       "      <td>Jason Mraz &amp; Colbie Caillat</td>\n",
       "      <td>0</td>\n",
       "    </tr>\n",
       "  </tbody>\n",
       "</table>\n",
       "</div>"
      ],
      "text/plain": [
       "                                       user                song  listen_count  \\\n",
       "0  d6589314c0a9bcbca4fee0c93b14bc402363afea  SOADQPP12A67020C82            12   \n",
       "1  d6589314c0a9bcbca4fee0c93b14bc402363afea  SOAFTRR12AF72A8D4D             1   \n",
       "2  d6589314c0a9bcbca4fee0c93b14bc402363afea  SOANQFY12AB0183239             1   \n",
       "3  d6589314c0a9bcbca4fee0c93b14bc402363afea  SOAYATB12A6701FD50             1   \n",
       "4  d6589314c0a9bcbca4fee0c93b14bc402363afea  SOBOAFP12A8C131F36             7   \n",
       "\n",
       "                           title                                release  \\\n",
       "0               You And Me Jesus                   Tribute To Jake Hess   \n",
       "1  Harder Better Faster Stronger                              Discovery   \n",
       "2                       Uprising                               Uprising   \n",
       "3         Breakfast At Tiffany's                                   Home   \n",
       "4          Lucky (Album Version)  We Sing.  We Dance.  We Steal Things.   \n",
       "\n",
       "                   artist_name  year  \n",
       "0                    Jake Hess  2004  \n",
       "1                    Daft Punk  2007  \n",
       "2                         Muse     0  \n",
       "3          Deep Blue Something  1993  \n",
       "4  Jason Mraz & Colbie Caillat     0  "
      ]
     },
     "execution_count": 13,
     "metadata": {},
     "output_type": "execute_result"
    }
   ],
   "source": [
    "triplet_dataset_sub_song_merged.head()"
   ]
  },
  {
   "cell_type": "code",
   "execution_count": 14,
   "metadata": {
    "collapsed": true
   },
   "outputs": [],
   "source": [
    "triplet_dataset_sub_song_merged.to_csv(path_or_buf=data_home+'triplet_dataset_sub_song_merged.csv', index=False)"
   ]
  },
  {
   "attachments": {},
   "cell_type": "markdown",
   "metadata": {
    "collapsed": true
   },
   "source": [
    "## 三 数据探索\n",
    "有了这些数据之后，我们可能会想给用户展示最受欢迎的歌手，歌曲，专辑有哪些。\n"
   ]
  },
  {
   "cell_type": "code",
   "execution_count": 15,
   "metadata": {
    "collapsed": true
   },
   "outputs": [],
   "source": [
    "import matplotlib.pyplot as plt; plt.rcdefaults()\n",
    "import numpy as np\n",
    "import matplotlib.pyplot as plt"
   ]
  },
  {
   "cell_type": "code",
   "execution_count": 17,
   "metadata": {
    "collapsed": true
   },
   "outputs": [],
   "source": [
    "triplet_dataset_sub_song_merged = pd.read_csv(filepath_or_buffer=data_home+'triplet_dataset_sub_song_merged.csv')"
   ]
  },
  {
   "cell_type": "markdown",
   "metadata": {
    "collapsed": true
   },
   "source": [
    "### 1 最受欢迎的Top10歌曲\n",
    "这里通过统计每首歌的播放量，作为衡量标准。"
   ]
  },
  {
   "cell_type": "code",
   "execution_count": 18,
   "metadata": {
    "collapsed": true
   },
   "outputs": [],
   "source": [
    "popular_songs = triplet_dataset_sub_song_merged[['title','listen_count']].groupby('title').sum().reset_index()\n",
    "# 或者 popular_songs = triplet_dataset_sub_song_merged.groupby('title')['listen_count'].sum().reset_index()\n",
    "popular_songs_top_10 = popular_songs.sort_values('listen_count', ascending=False).head(n=10)"
   ]
  },
  {
   "cell_type": "code",
   "execution_count": 19,
   "metadata": {},
   "outputs": [
    {
     "data": {
      "text/html": [
       "<div>\n",
       "<style>\n",
       "    .dataframe thead tr:only-child th {\n",
       "        text-align: right;\n",
       "    }\n",
       "\n",
       "    .dataframe thead th {\n",
       "        text-align: left;\n",
       "    }\n",
       "\n",
       "    .dataframe tbody tr th {\n",
       "        vertical-align: top;\n",
       "    }\n",
       "</style>\n",
       "<table border=\"1\" class=\"dataframe\">\n",
       "  <thead>\n",
       "    <tr style=\"text-align: right;\">\n",
       "      <th></th>\n",
       "      <th>title</th>\n",
       "      <th>listen_count</th>\n",
       "    </tr>\n",
       "  </thead>\n",
       "  <tbody>\n",
       "    <tr>\n",
       "      <th>27353</th>\n",
       "      <td>You're The One</td>\n",
       "      <td>328896</td>\n",
       "    </tr>\n",
       "    <tr>\n",
       "      <th>25106</th>\n",
       "      <td>Undo</td>\n",
       "      <td>258437</td>\n",
       "    </tr>\n",
       "    <tr>\n",
       "      <th>18662</th>\n",
       "      <td>Revelry</td>\n",
       "      <td>229079</td>\n",
       "    </tr>\n",
       "    <tr>\n",
       "      <th>19608</th>\n",
       "      <td>Sehr kosmisch</td>\n",
       "      <td>164356</td>\n",
       "    </tr>\n",
       "    <tr>\n",
       "      <th>9935</th>\n",
       "      <td>Horn Concerto No. 4 in E flat K495: II. Romanc...</td>\n",
       "      <td>163878</td>\n",
       "    </tr>\n",
       "  </tbody>\n",
       "</table>\n",
       "</div>"
      ],
      "text/plain": [
       "                                                   title  listen_count\n",
       "27353                                     You're The One        328896\n",
       "25106                                               Undo        258437\n",
       "18662                                            Revelry        229079\n",
       "19608                                      Sehr kosmisch        164356\n",
       "9935   Horn Concerto No. 4 in E flat K495: II. Romanc...        163878"
      ]
     },
     "execution_count": 19,
     "metadata": {},
     "output_type": "execute_result"
    }
   ],
   "source": [
    "popular_songs_top_10.head()"
   ]
  },
  {
   "cell_type": "code",
   "execution_count": 20,
   "metadata": {},
   "outputs": [
    {
     "data": {
      "image/png": "[encoded data removed]",
      "text/plain": [
       "<matplotlib.figure.Figure at 0x111321048>"
      ]
     },
     "metadata": {},
     "output_type": "display_data"
    }
   ],
   "source": [
    "titles = list(popular_songs_top_10['title'])\n",
    "x = np.arange(len(titles))\n",
    "height = list(popular_songs_top_10['listen_count'])\n",
    "\n",
    "plt.bar(x, height, align='center', alpha=0.6)\n",
    "plt.xticks(x, titles, rotation='vertical')\n",
    "plt.ylabel('Item count')\n",
    "plt.title('Most popular songs')\n",
    "\n",
    "plt.show()"
   ]
  },
  {
   "cell_type": "markdown",
   "metadata": {},
   "source": [
    "### 2 最受欢迎的Top10歌手"
   ]
  },
  {
   "cell_type": "code",
   "execution_count": 21,
   "metadata": {},
   "outputs": [
    {
     "data": {
      "image/png": "[encoded data removed]",
      "text/plain": [
       "<matplotlib.figure.Figure at 0x111c281d0>"
      ]
     },
     "metadata": {},
     "output_type": "display_data"
    }
   ],
   "source": [
    "popular_artist = triplet_dataset_sub_song_merged[['artist_name','listen_count']].groupby('artist_name').sum().reset_index()\n",
    "popular_artist_top_10 = popular_artist.sort_values('listen_count', ascending=False).head(n=10)\n",
    "\n",
    "artist_names = (list(popular_artist_top_10['artist_name']))\n",
    "x = np.arange(len(artist_names))\n",
    "height = list(popular_artist_top_10['listen_count'])\n",
    " \n",
    "plt.bar(x, height, align='center', alpha=0.5)\n",
    "plt.xticks(x, artist_names, rotation='vertical')\n",
    "plt.ylabel('Item count')\n",
    "plt.title('Most popular Artists')\n",
    " \n",
    "plt.show()"
   ]
  },
  {
   "cell_type": "markdown",
   "metadata": {},
   "source": [
    "### 3 最受欢迎的Top10专辑"
   ]
  },
  {
   "cell_type": "code",
   "execution_count": 22,
   "metadata": {},
   "outputs": [
    {
     "data": {
      "image/png": "[encoded data removed]",
      "text/plain": [
       "<matplotlib.figure.Figure at 0x111ef12b0>"
      ]
     },
     "metadata": {},
     "output_type": "display_data"
    }
   ],
   "source": [
    "popular_release = triplet_dataset_sub_song_merged[['release','listen_count']].groupby('release').sum().reset_index()\n",
    "popular_release_top_10 = popular_release.sort_values('listen_count', ascending=False).head(n=10)\n",
    "\n",
    "releases = (list(popular_release_top_10['release']))\n",
    "x = np.arange(len(releases))\n",
    "height = list(popular_release_top_10['listen_count'])\n",
    " \n",
    "plt.bar(x, height, align='center', alpha=0.5)\n",
    "plt.xticks(x, releases, rotation='vertical')\n",
    "plt.ylabel('Item count')\n",
    "plt.title('Most popular Release')\n",
    " \n",
    "plt.show()"
   ]
  },
  {
   "cell_type": "markdown",
   "metadata": {},
   "source": [
    "### 4 播放量与用户的关系"
   ]
  },
  {
   "cell_type": "code",
   "execution_count": 23,
   "metadata": {},
   "outputs": [
    {
     "data": {
      "text/html": [
       "<div>\n",
       "<style>\n",
       "    .dataframe thead tr:only-child th {\n",
       "        text-align: right;\n",
       "    }\n",
       "\n",
       "    .dataframe thead th {\n",
       "        text-align: left;\n",
       "    }\n",
       "\n",
       "    .dataframe tbody tr th {\n",
       "        vertical-align: top;\n",
       "    }\n",
       "</style>\n",
       "<table border=\"1\" class=\"dataframe\">\n",
       "  <thead>\n",
       "    <tr style=\"text-align: right;\">\n",
       "      <th></th>\n",
       "      <th>user</th>\n",
       "      <th>title</th>\n",
       "    </tr>\n",
       "  </thead>\n",
       "  <tbody>\n",
       "    <tr>\n",
       "      <th>45748</th>\n",
       "      <td>4e73d9e058d2b1f2dba9c1fe4a8f416f9f58364f</td>\n",
       "      <td>1240</td>\n",
       "    </tr>\n",
       "    <tr>\n",
       "      <th>82138</th>\n",
       "      <td>8cb51abc6bf8ea29341cb070fe1e1af5e4c3ffcc</td>\n",
       "      <td>1218</td>\n",
       "    </tr>\n",
       "    <tr>\n",
       "      <th>113115</th>\n",
       "      <td>c1255748c06ee3f6440c51c439446886c7807095</td>\n",
       "      <td>1214</td>\n",
       "    </tr>\n",
       "    <tr>\n",
       "      <th>10099</th>\n",
       "      <td>119b7c88d58d0c6eb051365c103da5caf817bea6</td>\n",
       "      <td>1184</td>\n",
       "    </tr>\n",
       "    <tr>\n",
       "      <th>88297</th>\n",
       "      <td>96f7b4f800cafef33eae71a6bc44f7139f63cd7a</td>\n",
       "      <td>1094</td>\n",
       "    </tr>\n",
       "  </tbody>\n",
       "</table>\n",
       "</div>"
      ],
      "text/plain": [
       "                                            user  title\n",
       "45748   4e73d9e058d2b1f2dba9c1fe4a8f416f9f58364f   1240\n",
       "82138   8cb51abc6bf8ea29341cb070fe1e1af5e4c3ffcc   1218\n",
       "113115  c1255748c06ee3f6440c51c439446886c7807095   1214\n",
       "10099   119b7c88d58d0c6eb051365c103da5caf817bea6   1184\n",
       "88297   96f7b4f800cafef33eae71a6bc44f7139f63cd7a   1094"
      ]
     },
     "execution_count": 23,
     "metadata": {},
     "output_type": "execute_result"
    }
   ],
   "source": [
    "user_song_count_distribution = triplet_dataset_sub_song_merged[['user','title']].groupby('user').count().reset_index().sort_values(\n",
    "by='title',ascending = False)\n",
    "user_song_count_distribution.head()"
   ]
  },
  {
   "cell_type": "code",
   "execution_count": 32,
   "metadata": {},
   "outputs": [
    {
     "data": {
      "image/png": "[encoded data removed]",
      "text/plain": [
       "<matplotlib.figure.Figure at 0x2a45630f0>"
      ]
     },
     "metadata": {},
     "output_type": "display_data"
    }
   ],
   "source": [
    "x = user_song_count_distribution.title\n",
    "n, bins, patches = plt.hist(x, 50, facecolor='green', alpha=0.7)\n",
    "plt.xlabel('Play Counts')\n",
    "plt.ylabel('Num of Users')\n",
    "plt.title('User Play Count Distribution')\n",
    "plt.grid(True)\n",
    "plt.show()\n"
   ]
  },
  {
   "cell_type": "markdown",
   "metadata": {},
   "source": [
    "从图中可以看出，播放量为100左右的人数是最多的。"
   ]
  },
  {
   "cell_type": "markdown",
   "metadata": {},
   "source": [
    "## 四 进行推荐"
   ]
  },
  {
   "cell_type": "markdown",
   "metadata": {},
   "source": [
    "### 加载数据"
   ]
  },
  {
   "cell_type": "code",
   "execution_count": 8,
   "metadata": {
    "collapsed": true
   },
   "outputs": [],
   "source": [
    "triplet_dataset_sub_song_merged = pd.read_csv(filepath_or_buffer=data_home+'triplet_dataset_sub_song_merged.csv')"
   ]
  },
  {
   "cell_type": "markdown",
   "metadata": {
    "collapsed": true
   },
   "source": [
    "### 1 协同过滤方法进行个性化推荐\n",
    "这里采用了基于商品的协同过滤方法进行推荐系统模型的构建，简单来说就是根据用户行为，通过计算商品与商品的相似度来给指定用户进行推荐 。\n",
    "\n",
    "之所以采用基于商品的协同过滤而不用基于用户的协同过滤，是因为：\n",
    "用户容易善变，他们的喜好易改变；而商品不易变，可以事先离线计算出商品间的相似度，并保留此计算结果。这样计算效率就能得到提高。\n",
    "而且商品通常比用户少，计算量就相对较少。\n"
   ]
  },
  {
   "cell_type": "code",
   "execution_count": 17,
   "metadata": {
    "collapsed": true
   },
   "outputs": [],
   "source": [
    "# 选择一小部分数据进行实验\n",
    "song_count_subset = song_count_df.head(n=5000)\n",
    "user_subset = list(play_count_subset.user)\n",
    "song_subset = list(song_count_subset.song)\n",
    "triplet_dataset_sub_song_merged_sub = triplet_dataset_sub_song_merged[triplet_dataset_sub_song_merged.song.isin(song_subset)]"
   ]
  },
  {
   "cell_type": "code",
   "execution_count": 18,
   "metadata": {
    "collapsed": true
   },
   "outputs": [],
   "source": [
    "from sklearn.model_selection import train_test_split\n",
    "import Recommenders as Recommenders\n",
    "\n",
    "train_data, test_data = train_test_split(triplet_dataset_sub_song_merged_sub, test_size = 0.30, random_state=0)"
   ]
  },
  {
   "cell_type": "code",
   "execution_count": 63,
   "metadata": {},
   "outputs": [
    {
     "data": {
      "text/html": [
       "<div>\n",
       "<style>\n",
       "    .dataframe thead tr:only-child th {\n",
       "        text-align: right;\n",
       "    }\n",
       "\n",
       "    .dataframe thead th {\n",
       "        text-align: left;\n",
       "    }\n",
       "\n",
       "    .dataframe tbody tr th {\n",
       "        vertical-align: top;\n",
       "    }\n",
       "</style>\n",
       "<table border=\"1\" class=\"dataframe\">\n",
       "  <thead>\n",
       "    <tr style=\"text-align: right;\">\n",
       "      <th></th>\n",
       "      <th>user</th>\n",
       "      <th>song</th>\n",
       "      <th>listen_count</th>\n",
       "      <th>title</th>\n",
       "      <th>release</th>\n",
       "      <th>artist_name</th>\n",
       "      <th>year</th>\n",
       "    </tr>\n",
       "  </thead>\n",
       "  <tbody>\n",
       "    <tr>\n",
       "      <th>1248632</th>\n",
       "      <td>f02af078448987c1f41d32bf92860edc731a8d01</td>\n",
       "      <td>SOJTIXE12AB018C99E</td>\n",
       "      <td>1</td>\n",
       "      <td>Sinister Kid</td>\n",
       "      <td>Brothers</td>\n",
       "      <td>The Black Keys</td>\n",
       "      <td>2010</td>\n",
       "    </tr>\n",
       "    <tr>\n",
       "      <th>7775865</th>\n",
       "      <td>a165f6d52920f77433932763ad0b162e9fd6f3f2</td>\n",
       "      <td>SONAKBL12AB0183CF5</td>\n",
       "      <td>3</td>\n",
       "      <td>Stupid Girl</td>\n",
       "      <td>Garbage</td>\n",
       "      <td>Garbage</td>\n",
       "      <td>1995</td>\n",
       "    </tr>\n",
       "    <tr>\n",
       "      <th>3117870</th>\n",
       "      <td>47d62d936875573f16c2d2ff3aba23fcbb1b9f38</td>\n",
       "      <td>SOPHQPE12AB0183798</td>\n",
       "      <td>1</td>\n",
       "      <td>Touched By The Sun</td>\n",
       "      <td>30 Best Trance Anthems Best Ever</td>\n",
       "      <td>Envio</td>\n",
       "      <td>2003</td>\n",
       "    </tr>\n",
       "    <tr>\n",
       "      <th>9988303</th>\n",
       "      <td>1a1ad6b2adc4573e8ea272660e8748a5b244830f</td>\n",
       "      <td>SOUSMXX12AB0185C24</td>\n",
       "      <td>116</td>\n",
       "      <td>OMG</td>\n",
       "      <td>OMG - The Remixes</td>\n",
       "      <td>Usher featuring will.i.am</td>\n",
       "      <td>2010</td>\n",
       "    </tr>\n",
       "    <tr>\n",
       "      <th>1974093</th>\n",
       "      <td>55834d99aa5e4dc334b3244b053bfe7360f072e4</td>\n",
       "      <td>SOTVLQY12A58A798C2</td>\n",
       "      <td>2</td>\n",
       "      <td>Home</td>\n",
       "      <td>Up From Below</td>\n",
       "      <td>Edward Sharpe &amp; The Magnetic Zeros</td>\n",
       "      <td>2009</td>\n",
       "    </tr>\n",
       "  </tbody>\n",
       "</table>\n",
       "</div>"
      ],
      "text/plain": [
       "                                             user                song  \\\n",
       "1248632  f02af078448987c1f41d32bf92860edc731a8d01  SOJTIXE12AB018C99E   \n",
       "7775865  a165f6d52920f77433932763ad0b162e9fd6f3f2  SONAKBL12AB0183CF5   \n",
       "3117870  47d62d936875573f16c2d2ff3aba23fcbb1b9f38  SOPHQPE12AB0183798   \n",
       "9988303  1a1ad6b2adc4573e8ea272660e8748a5b244830f  SOUSMXX12AB0185C24   \n",
       "1974093  55834d99aa5e4dc334b3244b053bfe7360f072e4  SOTVLQY12A58A798C2   \n",
       "\n",
       "         listen_count               title                           release  \\\n",
       "1248632             1        Sinister Kid                          Brothers   \n",
       "7775865             3         Stupid Girl                           Garbage   \n",
       "3117870             1  Touched By The Sun  30 Best Trance Anthems Best Ever   \n",
       "9988303           116                 OMG                 OMG - The Remixes   \n",
       "1974093             2                Home                     Up From Below   \n",
       "\n",
       "                                artist_name  year  \n",
       "1248632                      The Black Keys  2010  \n",
       "7775865                             Garbage  1995  \n",
       "3117870                               Envio  2003  \n",
       "9988303           Usher featuring will.i.am  2010  \n",
       "1974093  Edward Sharpe & The Magnetic Zeros  2009  "
      ]
     },
     "execution_count": 63,
     "metadata": {},
     "output_type": "execute_result"
    }
   ],
   "source": [
    "train_data.head()"
   ]
  },
  {
   "cell_type": "code",
   "execution_count": 64,
   "metadata": {
    "collapsed": true
   },
   "outputs": [],
   "source": []
  },
  {
   "cell_type": "code",
   "execution_count": 19,
   "metadata": {
    "collapsed": true
   },
   "outputs": [],
   "source": [
    "# 实例化推荐模型对象\n",
    "is_model = Recommenders.item_similarity_recommender_py()\n",
    "is_model.create(train_data, 'user', 'title')\n",
    "# 随机指定用户\n",
    "user_id = list(train_data.user)[7]\n",
    "# 获取指定用户听过的所有歌\n",
    "user_items = is_model.get_user_items(user_id)"
   ]
  },
  {
   "cell_type": "code",
   "execution_count": 16,
   "metadata": {},
   "outputs": [
    {
     "name": "stdout",
     "output_type": "stream",
     "text": [
      "No. of unique songs for the user: 14\n",
      "No. of unique songs in the training set: 1004\n",
      "Non zero values in cooccurence_matrix :14010\n"
     ]
    },
    {
     "data": {
      "text/html": [
       "<div>\n",
       "<style>\n",
       "    .dataframe thead tr:only-child th {\n",
       "        text-align: right;\n",
       "    }\n",
       "\n",
       "    .dataframe thead th {\n",
       "        text-align: left;\n",
       "    }\n",
       "\n",
       "    .dataframe tbody tr th {\n",
       "        vertical-align: top;\n",
       "    }\n",
       "</style>\n",
       "<table border=\"1\" class=\"dataframe\">\n",
       "  <thead>\n",
       "    <tr style=\"text-align: right;\">\n",
       "      <th></th>\n",
       "      <th>user_id</th>\n",
       "      <th>song</th>\n",
       "      <th>score</th>\n",
       "      <th>rank</th>\n",
       "    </tr>\n",
       "  </thead>\n",
       "  <tbody>\n",
       "    <tr>\n",
       "      <th>0</th>\n",
       "      <td>9292a0400ebe3969c21af8ce049274bf8c00cfc0</td>\n",
       "      <td>Songs Of The Season</td>\n",
       "      <td>0.081720</td>\n",
       "      <td>1</td>\n",
       "    </tr>\n",
       "    <tr>\n",
       "      <th>1</th>\n",
       "      <td>9292a0400ebe3969c21af8ce049274bf8c00cfc0</td>\n",
       "      <td>Such Great Heights</td>\n",
       "      <td>0.062326</td>\n",
       "      <td>2</td>\n",
       "    </tr>\n",
       "    <tr>\n",
       "      <th>2</th>\n",
       "      <td>9292a0400ebe3969c21af8ce049274bf8c00cfc0</td>\n",
       "      <td>The District Sleeps Alone Tonight (Album)</td>\n",
       "      <td>0.059663</td>\n",
       "      <td>3</td>\n",
       "    </tr>\n",
       "    <tr>\n",
       "      <th>3</th>\n",
       "      <td>9292a0400ebe3969c21af8ce049274bf8c00cfc0</td>\n",
       "      <td>A-Punk (Album)</td>\n",
       "      <td>0.055966</td>\n",
       "      <td>4</td>\n",
       "    </tr>\n",
       "    <tr>\n",
       "      <th>4</th>\n",
       "      <td>9292a0400ebe3969c21af8ce049274bf8c00cfc0</td>\n",
       "      <td>Oxford Comma (Album)</td>\n",
       "      <td>0.055926</td>\n",
       "      <td>5</td>\n",
       "    </tr>\n",
       "    <tr>\n",
       "      <th>5</th>\n",
       "      <td>9292a0400ebe3969c21af8ce049274bf8c00cfc0</td>\n",
       "      <td>Gimme Sympathy</td>\n",
       "      <td>0.055116</td>\n",
       "      <td>6</td>\n",
       "    </tr>\n",
       "    <tr>\n",
       "      <th>6</th>\n",
       "      <td>9292a0400ebe3969c21af8ce049274bf8c00cfc0</td>\n",
       "      <td>Cousins</td>\n",
       "      <td>0.050705</td>\n",
       "      <td>7</td>\n",
       "    </tr>\n",
       "    <tr>\n",
       "      <th>7</th>\n",
       "      <td>9292a0400ebe3969c21af8ce049274bf8c00cfc0</td>\n",
       "      <td>Gold Guns Girls</td>\n",
       "      <td>0.048389</td>\n",
       "      <td>8</td>\n",
       "    </tr>\n",
       "    <tr>\n",
       "      <th>8</th>\n",
       "      <td>9292a0400ebe3969c21af8ce049274bf8c00cfc0</td>\n",
       "      <td>The Kids Don\u0019t Stand A Chance (Album)</td>\n",
       "      <td>0.047974</td>\n",
       "      <td>9</td>\n",
       "    </tr>\n",
       "    <tr>\n",
       "      <th>9</th>\n",
       "      <td>9292a0400ebe3969c21af8ce049274bf8c00cfc0</td>\n",
       "      <td>Cape Cod Kwassa Kwassa (Album)</td>\n",
       "      <td>0.046401</td>\n",
       "      <td>10</td>\n",
       "    </tr>\n",
       "  </tbody>\n",
       "</table>\n",
       "</div>"
      ],
      "text/plain": [
       "                                    user_id  \\\n",
       "0  9292a0400ebe3969c21af8ce049274bf8c00cfc0   \n",
       "1  9292a0400ebe3969c21af8ce049274bf8c00cfc0   \n",
       "2  9292a0400ebe3969c21af8ce049274bf8c00cfc0   \n",
       "3  9292a0400ebe3969c21af8ce049274bf8c00cfc0   \n",
       "4  9292a0400ebe3969c21af8ce049274bf8c00cfc0   \n",
       "5  9292a0400ebe3969c21af8ce049274bf8c00cfc0   \n",
       "6  9292a0400ebe3969c21af8ce049274bf8c00cfc0   \n",
       "7  9292a0400ebe3969c21af8ce049274bf8c00cfc0   \n",
       "8  9292a0400ebe3969c21af8ce049274bf8c00cfc0   \n",
       "9  9292a0400ebe3969c21af8ce049274bf8c00cfc0   \n",
       "\n",
       "                                        song     score rank  \n",
       "0                        Songs Of The Season  0.081720    1  \n",
       "1                         Such Great Heights  0.062326    2  \n",
       "2  The District Sleeps Alone Tonight (Album)  0.059663    3  \n",
       "3                             A-Punk (Album)  0.055966    4  \n",
       "4                       Oxford Comma (Album)  0.055926    5  \n",
       "5                             Gimme Sympathy  0.055116    6  \n",
       "6                                    Cousins  0.050705    7  \n",
       "7                            Gold Guns Girls  0.048389    8  \n",
       "8      The Kids Don\u0019t Stand A Chance (Album)  0.047974    9  \n",
       "9             Cape Cod Kwassa Kwassa (Album)  0.046401   10  "
      ]
     },
     "execution_count": 16,
     "metadata": {},
     "output_type": "execute_result"
    }
   ],
   "source": [
    "# 使用个性化模型对用户进行歌曲推荐\n",
    "is_model.recommend(user_id)"
   ]
  },
  {
   "cell_type": "code",
   "execution_count": 21,
   "metadata": {},
   "outputs": [
    {
     "name": "stdout",
     "output_type": "stream",
     "text": [
      "No. of unique songs for the user: 107\n",
      "No. of unique songs in the training set: 4894\n",
      "Non zero values in cooccurence_matrix :494650\n"
     ]
    },
    {
     "data": {
      "text/html": [
       "<div>\n",
       "<style>\n",
       "    .dataframe thead tr:only-child th {\n",
       "        text-align: right;\n",
       "    }\n",
       "\n",
       "    .dataframe thead th {\n",
       "        text-align: left;\n",
       "    }\n",
       "\n",
       "    .dataframe tbody tr th {\n",
       "        vertical-align: top;\n",
       "    }\n",
       "</style>\n",
       "<table border=\"1\" class=\"dataframe\">\n",
       "  <thead>\n",
       "    <tr style=\"text-align: right;\">\n",
       "      <th></th>\n",
       "      <th>user_id</th>\n",
       "      <th>song</th>\n",
       "      <th>score</th>\n",
       "      <th>rank</th>\n",
       "    </tr>\n",
       "  </thead>\n",
       "  <tbody>\n",
       "    <tr>\n",
       "      <th>0</th>\n",
       "      <td>fcce3a887a002eadcc2c90805c9be54cd4add2c9</td>\n",
       "      <td>Fast As I Can</td>\n",
       "      <td>0.096455</td>\n",
       "      <td>1</td>\n",
       "    </tr>\n",
       "    <tr>\n",
       "      <th>1</th>\n",
       "      <td>fcce3a887a002eadcc2c90805c9be54cd4add2c9</td>\n",
       "      <td>The Prize</td>\n",
       "      <td>0.092351</td>\n",
       "      <td>2</td>\n",
       "    </tr>\n",
       "    <tr>\n",
       "      <th>2</th>\n",
       "      <td>fcce3a887a002eadcc2c90805c9be54cd4add2c9</td>\n",
       "      <td>From The Station</td>\n",
       "      <td>0.091144</td>\n",
       "      <td>3</td>\n",
       "    </tr>\n",
       "    <tr>\n",
       "      <th>3</th>\n",
       "      <td>fcce3a887a002eadcc2c90805c9be54cd4add2c9</td>\n",
       "      <td>Daisy And Prudence</td>\n",
       "      <td>0.085588</td>\n",
       "      <td>4</td>\n",
       "    </tr>\n",
       "    <tr>\n",
       "      <th>4</th>\n",
       "      <td>fcce3a887a002eadcc2c90805c9be54cd4add2c9</td>\n",
       "      <td>Hands Up</td>\n",
       "      <td>0.085574</td>\n",
       "      <td>5</td>\n",
       "    </tr>\n",
       "    <tr>\n",
       "      <th>5</th>\n",
       "      <td>fcce3a887a002eadcc2c90805c9be54cd4add2c9</td>\n",
       "      <td>Rhode Island Is Famous For You</td>\n",
       "      <td>0.085070</td>\n",
       "      <td>6</td>\n",
       "    </tr>\n",
       "    <tr>\n",
       "      <th>6</th>\n",
       "      <td>fcce3a887a002eadcc2c90805c9be54cd4add2c9</td>\n",
       "      <td>You're A Cad</td>\n",
       "      <td>0.082599</td>\n",
       "      <td>7</td>\n",
       "    </tr>\n",
       "    <tr>\n",
       "      <th>7</th>\n",
       "      <td>fcce3a887a002eadcc2c90805c9be54cd4add2c9</td>\n",
       "      <td>Songs Of The Season</td>\n",
       "      <td>0.082401</td>\n",
       "      <td>8</td>\n",
       "    </tr>\n",
       "    <tr>\n",
       "      <th>8</th>\n",
       "      <td>fcce3a887a002eadcc2c90805c9be54cd4add2c9</td>\n",
       "      <td>Mia</td>\n",
       "      <td>0.080938</td>\n",
       "      <td>9</td>\n",
       "    </tr>\n",
       "    <tr>\n",
       "      <th>9</th>\n",
       "      <td>fcce3a887a002eadcc2c90805c9be54cd4add2c9</td>\n",
       "      <td>Sour Cherry</td>\n",
       "      <td>0.077127</td>\n",
       "      <td>10</td>\n",
       "    </tr>\n",
       "  </tbody>\n",
       "</table>\n",
       "</div>"
      ],
      "text/plain": [
       "                                    user_id                            song  \\\n",
       "0  fcce3a887a002eadcc2c90805c9be54cd4add2c9                   Fast As I Can   \n",
       "1  fcce3a887a002eadcc2c90805c9be54cd4add2c9                       The Prize   \n",
       "2  fcce3a887a002eadcc2c90805c9be54cd4add2c9                From The Station   \n",
       "3  fcce3a887a002eadcc2c90805c9be54cd4add2c9              Daisy And Prudence   \n",
       "4  fcce3a887a002eadcc2c90805c9be54cd4add2c9                        Hands Up   \n",
       "5  fcce3a887a002eadcc2c90805c9be54cd4add2c9  Rhode Island Is Famous For You   \n",
       "6  fcce3a887a002eadcc2c90805c9be54cd4add2c9                    You're A Cad   \n",
       "7  fcce3a887a002eadcc2c90805c9be54cd4add2c9             Songs Of The Season   \n",
       "8  fcce3a887a002eadcc2c90805c9be54cd4add2c9                             Mia   \n",
       "9  fcce3a887a002eadcc2c90805c9be54cd4add2c9                     Sour Cherry   \n",
       "\n",
       "      score rank  \n",
       "0  0.096455    1  \n",
       "1  0.092351    2  \n",
       "2  0.091144    3  \n",
       "3  0.085588    4  \n",
       "4  0.085574    5  \n",
       "5  0.085070    6  \n",
       "6  0.082599    7  \n",
       "7  0.082401    8  \n",
       "8  0.080938    9  \n",
       "9  0.077127   10  "
      ]
     },
     "execution_count": 21,
     "metadata": {},
     "output_type": "execute_result"
    }
   ],
   "source": [
    "# 使用个性化模型对用户进行歌曲推荐\n",
    "is_model.recommend(user_id)"
   ]
  },
  {
   "cell_type": "markdown",
   "metadata": {
    "collapsed": true
   },
   "source": [
    "### 2 进行排行榜推荐（热门歌曲推荐）\n",
    "此方法是解决协同过滤冷启动问题的方法之一。\n",
    "\n",
    "要做此推荐就要对每首歌进行评分，这里以每首歌被不同用户点击的数量作为评估分数，再对此进行排序，取出点击量最高的前10首。\n",
    "\n",
    "与上面不同，triplet_dataset_sub_song_merged[['title','listen_count']].groupby('title').sum().reset_index()，是以每首歌的总播放量作为评估标准；\n",
    "triplet_dataset_sub_song_merged.groupby([item_id]).agg({user_id: 'count'}).reset_index(),是以每首歌被不同用户的点击量作为评估标准。"
   ]
  },
  {
   "cell_type": "code",
   "execution_count": 22,
   "metadata": {
    "collapsed": true
   },
   "outputs": [],
   "source": [
    "def create_popularity_recommendation(data, user_id, item_id):\n",
    "    #Get a count of user_ids for each unique song as recommendation score\n",
    "    data_grouped = data.groupby([item_id]).agg({user_id: 'count'}).reset_index()\n",
    "    data_grouped.rename(columns = {user_id: 'score'},inplace=True)\n",
    "    \n",
    "    #Sort the songs based upon recommendation score\n",
    "    data_sort = data_grouped.sort_values('score', ascending = False)\n",
    "    \n",
    "    #Generate a recommendation rank based upon score\n",
    "    data_sort['Rank'] = data_sort['score'].rank(ascending=False, method='first')\n",
    "        \n",
    "    #Get the top 10 recommendations\n",
    "    popularity_recommendations = data_sort[:10]\n",
    "    return popularity_recommendations"
   ]
  },
  {
   "cell_type": "code",
   "execution_count": 23,
   "metadata": {
    "collapsed": true
   },
   "outputs": [],
   "source": [
    "recommendations = create_popularity_recommendation(triplet_dataset_sub_song_merged,'user','title')"
   ]
  },
  {
   "cell_type": "code",
   "execution_count": 24,
   "metadata": {},
   "outputs": [
    {
     "data": {
      "text/html": [
       "<div>\n",
       "<style>\n",
       "    .dataframe thead tr:only-child th {\n",
       "        text-align: right;\n",
       "    }\n",
       "\n",
       "    .dataframe thead th {\n",
       "        text-align: left;\n",
       "    }\n",
       "\n",
       "    .dataframe tbody tr th {\n",
       "        vertical-align: top;\n",
       "    }\n",
       "</style>\n",
       "<table border=\"1\" class=\"dataframe\">\n",
       "  <thead>\n",
       "    <tr style=\"text-align: right;\">\n",
       "      <th></th>\n",
       "      <th>title</th>\n",
       "      <th>score</th>\n",
       "      <th>Rank</th>\n",
       "    </tr>\n",
       "  </thead>\n",
       "  <tbody>\n",
       "    <tr>\n",
       "      <th>25252</th>\n",
       "      <td>Use Somebody</td>\n",
       "      <td>34726</td>\n",
       "      <td>1.0</td>\n",
       "    </tr>\n",
       "    <tr>\n",
       "      <th>27013</th>\n",
       "      <td>Yellow</td>\n",
       "      <td>29149</td>\n",
       "      <td>2.0</td>\n",
       "    </tr>\n",
       "    <tr>\n",
       "      <th>19608</th>\n",
       "      <td>Sehr kosmisch</td>\n",
       "      <td>26648</td>\n",
       "      <td>3.0</td>\n",
       "    </tr>\n",
       "    <tr>\n",
       "      <th>5789</th>\n",
       "      <td>Dog Days Are Over (Radio Edit)</td>\n",
       "      <td>24866</td>\n",
       "      <td>4.0</td>\n",
       "    </tr>\n",
       "    <tr>\n",
       "      <th>27353</th>\n",
       "      <td>You're The One</td>\n",
       "      <td>22749</td>\n",
       "      <td>5.0</td>\n",
       "    </tr>\n",
       "    <tr>\n",
       "      <th>13922</th>\n",
       "      <td>Love Story</td>\n",
       "      <td>21526</td>\n",
       "      <td>6.0</td>\n",
       "    </tr>\n",
       "    <tr>\n",
       "      <th>19570</th>\n",
       "      <td>Secrets</td>\n",
       "      <td>21400</td>\n",
       "      <td>7.0</td>\n",
       "    </tr>\n",
       "    <tr>\n",
       "      <th>20788</th>\n",
       "      <td>Somebody To Love</td>\n",
       "      <td>21321</td>\n",
       "      <td>8.0</td>\n",
       "    </tr>\n",
       "    <tr>\n",
       "      <th>25106</th>\n",
       "      <td>Undo</td>\n",
       "      <td>21153</td>\n",
       "      <td>9.0</td>\n",
       "    </tr>\n",
       "    <tr>\n",
       "      <th>18662</th>\n",
       "      <td>Revelry</td>\n",
       "      <td>21144</td>\n",
       "      <td>10.0</td>\n",
       "    </tr>\n",
       "  </tbody>\n",
       "</table>\n",
       "</div>"
      ],
      "text/plain": [
       "                                title  score  Rank\n",
       "25252                    Use Somebody  34726   1.0\n",
       "27013                          Yellow  29149   2.0\n",
       "19608                   Sehr kosmisch  26648   3.0\n",
       "5789   Dog Days Are Over (Radio Edit)  24866   4.0\n",
       "27353                  You're The One  22749   5.0\n",
       "13922                      Love Story  21526   6.0\n",
       "19570                         Secrets  21400   7.0\n",
       "20788                Somebody To Love  21321   8.0\n",
       "25106                            Undo  21153   9.0\n",
       "18662                         Revelry  21144  10.0"
      ]
     },
     "execution_count": 24,
     "metadata": {},
     "output_type": "execute_result"
    }
   ],
   "source": [
    "recommendations"
   ]
  },
  {
   "cell_type": "code",
   "execution_count": null,
   "metadata": {
    "collapsed": true
   },
   "outputs": [],
   "source": []
  },
  {
   "cell_type": "code",
   "execution_count": null,
   "metadata": {
    "collapsed": true
   },
   "outputs": [],
   "source": []
  },
  {
   "cell_type": "code",
   "execution_count": null,
   "metadata": {
    "collapsed": true
   },
   "outputs": [],
   "source": []
  },
  {
   "cell_type": "code",
   "execution_count": null,
   "metadata": {
    "collapsed": true
   },
   "outputs": [],
   "source": []
  },
  {
   "cell_type": "code",
   "execution_count": null,
   "metadata": {
    "collapsed": true
   },
   "outputs": [],
   "source": []
  },
  {
   "cell_type": "code",
   "execution_count": null,
   "metadata": {
    "collapsed": true
   },
   "outputs": [],
   "source": []
  }
 ],
 "metadata": {
  "kernelspec": {
   "display_name": "Python 3",
   "language": "python",
   "name": "python3"
  },
  "language_info": {
   "codemirror_mode": {
    "name": "ipython",
    "version": 3
   },
   "file_extension": ".py",
   "mimetype": "text/x-python",
   "name": "python",
   "nbconvert_exporter": "python",
   "pygments_lexer": "ipython3",
   "version": "3.6.3"
  }
 },
 "nbformat": 4,
 "nbformat_minor": 2
}
